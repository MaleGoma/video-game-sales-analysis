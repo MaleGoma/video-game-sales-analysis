{
 "cells": [
  {
   "cell_type": "markdown",
   "metadata": {
    "tags": [
     "e5c1f0c2-db9f-43a0-99b9-4875c52427e8"
    ]
   },
   "source": [
    "# Video game sales analysis"
   ]
  },
  {
   "cell_type": "markdown",
   "metadata": {},
   "source": [
    "# Contenido <a id='back'></a>\n",
    "\n",
    "* [Introducción](#intro)\n",
    "* [1. Información general](#general_info)\n",
    "    * [Conclusiones](#general_info_conclusions)\n",
    "* [2. Preprocesamiento de datos](#data_preprocessing)\n",
    "    * [2.1 Estilo del encabezado](#header_style)\n",
    "    * [2.2 Valores ausentes](#missing_values)\n",
    "    * [2.3 Duplicados](#duplicates)\n",
    "    * [2.4 Tipos de dato](#data_types)\n",
    "    * [2.5 Columna de ventas totales para cada juego](#total_sales)\n",
    "    * [2.6 Conclusiones](#data_preprocessing_conclusions)\n",
    "* [3. Análisis de datos](#data_analysis)\n",
    "    * [3.1 Total de juegos lanzados en cada año](#total_games_year)\n",
    "    * [3.2 Ventas totales por plataforma](#total_sales_platforms)\n",
    "    * [3.3 Ventas anuales de plataformas con mayores ventas](#anual_sales_platforms)\n",
    "    * [3.4 Selección de datos relevantes](#relevant_data)\n",
    "    * [3.5 Plataformas líderes en ventas](#leader_sales_platforms)\n",
    "    * [3.6 Diagrama de caja de ventas globales](#global_sales)\n",
    "    * [3.7 Correlación entre reseñas y ventas](#corr_reviews_sales)\n",
    "    * [3.8 Comparación de ventas de los mismos juegos en otras plataformas](#comparison_sales_games)\n",
    "    * [3.9 Distribución general de juegos por género](#genre_games)\n",
    "* [4. Perfil de usuario para cada región](#user_profiles)\n",
    "    * [4.1 Perfil de Norteamérica](#na_profile)\n",
    "        * [4.1.1 Plataformas principales](#na_platforms)\n",
    "        * [4.1.2 Cuotas de mercado](#na_market_share)\n",
    "        * [4.1.3 Géneros principales](#na_genres)\n",
    "        * [4.1.4 Efecto de las clasificaciones ESRB en las ventas regionales](#na_esrb)\n",
    "    * [4.2 Perfil de Europa](#eu_profile)\n",
    "        * [4.2.1 Plataformas principales](#eu_platforms)\n",
    "        * [4.2.2 Cuotas de mercado](#eu_market_share)\n",
    "        * [4.2.3 Géneros principales](#eu_genres)\n",
    "        * [4.2.4 Efecto de las clasificaciones ESRB en las ventas regionales](#eu_esrb)\n",
    "    * [4.3 Perfil de Japón](#jp_profile)\n",
    "        * [4.3.1 Plataformas principales](#jp_platforms)\n",
    "        * [4.3.2 Cuotas de mercado](#jp_market_share)\n",
    "        * [4.3.3 Géneros principales](#jp_genres)\n",
    "        * [4.3.4 Efecto de las clasificaciones ESRB en las ventas regionales](#jp_esrb)\n",
    "    * [4.4 Conclusiones](#user_profiles_conclusions)\n",
    "        * [4.4.1 Plataformas principales](#platforms_conclusions)\n",
    "        * [4.4.2 Cuotas de mercado](#market_share_conclusions)\n",
    "        * [4.4.3 Géneros principales](#genres_conclusions)\n",
    "        * [4.4.4 Efecto de las clasificaciones ESRB en las ventas regionales](#esrb_conclusions)\n",
    "* [5. Pruebas de hipótesis](#hypothesis_testing)\n",
    "    * [5.1 Las calificaciones promedio de los usuarios para las plataformas Xbox One y PC son las mismas](#scores_xone_pc)\n",
    "    * [5.2 Las calificaciones promedio de los usuarios para los géneros de Acción y Deportes son diferentes](#scores_action_sports)\n",
    "* [6. Conclusión general](#general_conclusion)"
   ]
  },
  {
   "cell_type": "markdown",
   "metadata": {},
   "source": [
    "## Introducción <a id='intro'></a>\n",
    "\n",
    "La tienda online Ice vende videojuegos por todo el mundo y le interesa identificar patrones que le permitan detectar proyectos prometedores y planificar campañas publicitarias. \n",
    "\n",
    "Para ello se cuenta con una base de datos históricos con las reseñas de usuarios y expertos, los géneros, las plataformas de videojuegos y las ventas de juegos en diferentes regiones. Estos se remontan a 2016.\n",
    "\n",
    "### Etapas\n",
    "\n",
    "Se empezará revisando de manera general la base de datos para, con base en los descrubrimientos anteriores, limpiarla en caso de ser necesario a través del preprocesamiento de datos. Posteriormente se hará una análisis de los datos, donde se estudiaran los juegos lanzados, las ventas totales, los años relevantes para el análisis, entre otros. También se hará un perfil de usuario para las regiones de Norteamérica, Europa y Japón. Finalmente, se harán dos pruebas de hipótesis donde se analizará si las calificaciones de los usuarios para las plataformas de Xbox One y PC, así como para los géneros de Acción y Deportes son iguales o diferentes."
   ]
  },
  {
   "cell_type": "markdown",
   "metadata": {},
   "source": [
    "## 1. Información general <a id='general_info'></a>\n",
    "\n",
    "Abrimos la base de datos de videojuegos y la examinamos."
   ]
  },
  {
   "cell_type": "code",
   "execution_count": null,
   "metadata": {},
   "outputs": [],
   "source": [
    "# Importar librerías\n",
    "\n",
    "# Librerías de terceros\n",
    "import matplotlib.pyplot as plt\n",
    "import numpy as np\n",
    "import pandas as pd\n",
    "import seaborn as sns\n",
    "from scipy import stats as st\n",
    "from scipy.stats import levene"
   ]
  },
  {
   "cell_type": "code",
   "execution_count": null,
   "metadata": {},
   "outputs": [
    {
     "name": "stdout",
     "output_type": "stream",
     "text": [
      "                                             Name Platform  Year_of_Release  \\\n",
      "9900   A.C.E.: Another Century's Episode Portable      PSP           2011.0   \n",
      "7257                        Naruto: Ninja Council      GBA           2003.0   \n",
      "4042        Star Wars Battlefront: Elite Squadron       DS           2009.0   \n",
      "13073                             Sigma Star Saga      GBA           2005.0   \n",
      "4191                                      FIFA 12       PC           2011.0   \n",
      "\n",
      "              Genre  NA_sales  EU_sales  JP_sales  Other_sales  Critic_Score  \\\n",
      "9900     Simulation      0.00      0.00      0.12         0.00           NaN   \n",
      "7257         Action      0.16      0.06      0.00         0.00          60.0   \n",
      "4042        Shooter      0.42      0.03      0.00         0.04          61.0   \n",
      "13073  Role-Playing      0.04      0.01      0.00         0.00          68.0   \n",
      "4191         Sports      0.04      0.33      0.00         0.10           NaN   \n",
      "\n",
      "      User_Score Rating  \n",
      "9900         NaN    NaN  \n",
      "7257         7.1   E10+  \n",
      "4042           5   E10+  \n",
      "13073        8.2   E10+  \n",
      "4191         NaN    NaN  \n"
     ]
    }
   ],
   "source": [
    "# Cargar la base de datos\n",
    "data = pd.read_csv('/datasets/games.csv')\n",
    "\n",
    "display(data.sample(5))"
   ]
  },
  {
   "cell_type": "code",
   "execution_count": 3,
   "metadata": {},
   "outputs": [
    {
     "name": "stdout",
     "output_type": "stream",
     "text": [
      "<class 'pandas.core.frame.DataFrame'>\n",
      "RangeIndex: 16715 entries, 0 to 16714\n",
      "Data columns (total 11 columns):\n",
      " #   Column           Non-Null Count  Dtype  \n",
      "---  ------           --------------  -----  \n",
      " 0   Name             16713 non-null  object \n",
      " 1   Platform         16715 non-null  object \n",
      " 2   Year_of_Release  16446 non-null  float64\n",
      " 3   Genre            16713 non-null  object \n",
      " 4   NA_sales         16715 non-null  float64\n",
      " 5   EU_sales         16715 non-null  float64\n",
      " 6   JP_sales         16715 non-null  float64\n",
      " 7   Other_sales      16715 non-null  float64\n",
      " 8   Critic_Score     8137 non-null   float64\n",
      " 9   User_Score       10014 non-null  object \n",
      " 10  Rating           9949 non-null   object \n",
      "dtypes: float64(6), object(5)\n",
      "memory usage: 1.4+ MB\n"
     ]
    }
   ],
   "source": [
    "# Obtenemos información general de la base de datos\n",
    "data.info()"
   ]
  },
  {
   "cell_type": "code",
   "execution_count": null,
   "metadata": {},
   "outputs": [],
   "source": [
    "# Obtenemos datos estadísticos de la base de datos\n",
    "data.describe()"
   ]
  },
  {
   "cell_type": "code",
   "execution_count": 4,
   "metadata": {},
   "outputs": [
    {
     "name": "stdout",
     "output_type": "stream",
     "text": [
      "[76. nan 82. 80. 89. 58. 87. 91. 61. 97. 95. 77. 88. 83. 94. 93. 85. 86.\n",
      " 98. 96. 90. 84. 73. 74. 78. 92. 71. 72. 68. 62. 49. 67. 81. 66. 56. 79.\n",
      " 70. 59. 64. 75. 60. 63. 69. 50. 25. 42. 44. 55. 48. 57. 29. 47. 65. 54.\n",
      " 20. 53. 37. 38. 33. 52. 30. 32. 43. 45. 51. 40. 46. 39. 34. 35. 41. 36.\n",
      " 28. 31. 27. 26. 19. 23. 24. 21. 17. 22. 13.]\n",
      "\n",
      "\n",
      "['8' nan '8.3' '8.5' '6.6' '8.4' '8.6' '7.7' '6.3' '7.4' '8.2' '9' '7.9'\n",
      " '8.1' '8.7' '7.1' '3.4' '5.3' '4.8' '3.2' '8.9' '6.4' '7.8' '7.5' '2.6'\n",
      " '7.2' '9.2' '7' '7.3' '4.3' '7.6' '5.7' '5' '9.1' '6.5' 'tbd' '8.8' '6.9'\n",
      " '9.4' '6.8' '6.1' '6.7' '5.4' '4' '4.9' '4.5' '9.3' '6.2' '4.2' '6' '3.7'\n",
      " '4.1' '5.8' '5.6' '5.5' '4.4' '4.6' '5.9' '3.9' '3.1' '2.9' '5.2' '3.3'\n",
      " '4.7' '5.1' '3.5' '2.5' '1.9' '3' '2.7' '2.2' '2' '9.5' '2.1' '3.6' '2.8'\n",
      " '1.8' '3.8' '0' '1.6' '9.6' '2.4' '1.7' '1.1' '0.3' '1.5' '0.7' '1.2'\n",
      " '2.3' '0.5' '1.3' '0.2' '0.6' '1.4' '0.9' '1' '9.7']\n"
     ]
    }
   ],
   "source": [
    "# Analizamos los datos cuantitativos de las columnas Critic_Score y User_Score\n",
    "print(data[\"Critic_Score\"].unique())\n",
    "print(\"\\n\")\n",
    "print(data[\"User_Score\"].unique())"
   ]
  },
  {
   "cell_type": "markdown",
   "metadata": {},
   "source": [
    "### Conclusiones <a id='general_info_conclusions'></a>\n",
    "\n",
    "La base de datos cuenta con 11 columnas y 16,715 filas, donde:\n",
    "- La columna 'Year_of_Release' tiene un tipo de datos flotante, el cual no es un tipo de dato adecuado para la información que contiene.\n",
    "- La columna 'Critic_Score' tiene un tipo de datos flotante y, dado que para esta puntuación no se usan puntos decimales, tenerlo como flotante hace que se gaste memoria innecesariamente.\n",
    "- La columna 'User_Score' tiene tiene un tipo de dato objeto, el cual es incorrecto pues almacena datos numéricos flotantes.\n",
    "- Observamos datos ausentes en las columnas 'Name', 'Year_of_Release', 'Genre', 'Critic_Score', 'User_Score', y 'Rating'. "
   ]
  },
  {
   "cell_type": "markdown",
   "metadata": {},
   "source": [
    "## 2. Preprocesamiento de datos <a id='data_preprocessing'></a>\n",
    "\n",
    "Corregimos errores en los datos, tales como nombres de las columnas en estilo snake_case, valores ausentes, duplicados, errores en tipos de datos, y agregamos cualquier modificación que sea de ayuda para el análisis posterior de los datos."
   ]
  },
  {
   "cell_type": "markdown",
   "metadata": {},
   "source": [
    "### Estilo del encabezado <a id='header_style'></a>\n",
    "\n",
    "Corregimos los nombres de las columnas de la tabla de tal forma que sigan las reglas de buen estilo. Esto lo logramos haciendo que todos los caracteres estén en minúsculas."
   ]
  },
  {
   "cell_type": "code",
   "execution_count": 5,
   "metadata": {},
   "outputs": [
    {
     "name": "stdout",
     "output_type": "stream",
     "text": [
      "Index(['name', 'platform', 'year_of_release', 'genre', 'na_sales', 'eu_sales',\n",
      "       'jp_sales', 'other_sales', 'critic_score', 'user_score', 'rating'],\n",
      "      dtype='object')\n"
     ]
    }
   ],
   "source": [
    "# Creamos una lista de apoyo donde se colocarán todos los nuevos nombres de las columnas\n",
    "new_col_names = []\n",
    "\n",
    "for old_name in data.columns:\n",
    "    # Ponemos los nombres de las columnas en minúsculas\n",
    "    new_name = old_name.lower()\n",
    "    # Agregamos el nombre modificado a la lista de nuevos nombres de columnas\n",
    "    new_col_names.append(new_name)\n",
    "\n",
    "# Reemplazamos los nombres anteriores con los nuevos\n",
    "data.columns = new_col_names\n",
    "\n",
    "#Verificamos el cambio de nombres de las columnas\n",
    "print(data.columns)"
   ]
  },
  {
   "cell_type": "markdown",
   "metadata": {},
   "source": [
    "### Valores ausentes <a id='missing_values'></a>\n",
    "\n",
    "Al estudiar los datos, nos percatamos que las siguientes columnas presentan datos ausentes:\n",
    "- 'name'\n",
    "- 'genre'\n",
    "- 'user_score'\n",
    "- 'rating'\n",
    "\n",
    "Por lo que procedemos a estudiar estas columnas a profundidad."
   ]
  },
  {
   "cell_type": "code",
   "execution_count": 6,
   "metadata": {},
   "outputs": [
    {
     "data": {
      "text/html": [
       "<div>\n",
       "<style scoped>\n",
       "    .dataframe tbody tr th:only-of-type {\n",
       "        vertical-align: middle;\n",
       "    }\n",
       "\n",
       "    .dataframe tbody tr th {\n",
       "        vertical-align: top;\n",
       "    }\n",
       "\n",
       "    .dataframe thead th {\n",
       "        text-align: right;\n",
       "    }\n",
       "</style>\n",
       "<table border=\"1\" class=\"dataframe\">\n",
       "  <thead>\n",
       "    <tr style=\"text-align: right;\">\n",
       "      <th></th>\n",
       "      <th>name</th>\n",
       "      <th>platform</th>\n",
       "      <th>year_of_release</th>\n",
       "      <th>genre</th>\n",
       "      <th>na_sales</th>\n",
       "      <th>eu_sales</th>\n",
       "      <th>jp_sales</th>\n",
       "      <th>other_sales</th>\n",
       "      <th>critic_score</th>\n",
       "      <th>user_score</th>\n",
       "      <th>rating</th>\n",
       "    </tr>\n",
       "  </thead>\n",
       "  <tbody>\n",
       "    <tr>\n",
       "      <th>659</th>\n",
       "      <td>NaN</td>\n",
       "      <td>GEN</td>\n",
       "      <td>1993.0</td>\n",
       "      <td>NaN</td>\n",
       "      <td>1.78</td>\n",
       "      <td>0.53</td>\n",
       "      <td>0.00</td>\n",
       "      <td>0.08</td>\n",
       "      <td>NaN</td>\n",
       "      <td>NaN</td>\n",
       "      <td>NaN</td>\n",
       "    </tr>\n",
       "    <tr>\n",
       "      <th>14244</th>\n",
       "      <td>NaN</td>\n",
       "      <td>GEN</td>\n",
       "      <td>1993.0</td>\n",
       "      <td>NaN</td>\n",
       "      <td>0.00</td>\n",
       "      <td>0.00</td>\n",
       "      <td>0.03</td>\n",
       "      <td>0.00</td>\n",
       "      <td>NaN</td>\n",
       "      <td>NaN</td>\n",
       "      <td>NaN</td>\n",
       "    </tr>\n",
       "  </tbody>\n",
       "</table>\n",
       "</div>"
      ],
      "text/plain": [
       "      name platform  year_of_release genre  na_sales  eu_sales  jp_sales  \\\n",
       "659    NaN      GEN           1993.0   NaN      1.78      0.53      0.00   \n",
       "14244  NaN      GEN           1993.0   NaN      0.00      0.00      0.03   \n",
       "\n",
       "       other_sales  critic_score user_score rating  \n",
       "659           0.08           NaN        NaN    NaN  \n",
       "14244         0.00           NaN        NaN    NaN  "
      ]
     },
     "execution_count": 6,
     "metadata": {},
     "output_type": "execute_result"
    }
   ],
   "source": [
    "# Encuentra los valores ausentes en la columna 'name'\n",
    "data[data[\"name\"].isna()]"
   ]
  },
  {
   "cell_type": "code",
   "execution_count": 7,
   "metadata": {},
   "outputs": [
    {
     "data": {
      "text/html": [
       "<div>\n",
       "<style scoped>\n",
       "    .dataframe tbody tr th:only-of-type {\n",
       "        vertical-align: middle;\n",
       "    }\n",
       "\n",
       "    .dataframe tbody tr th {\n",
       "        vertical-align: top;\n",
       "    }\n",
       "\n",
       "    .dataframe thead th {\n",
       "        text-align: right;\n",
       "    }\n",
       "</style>\n",
       "<table border=\"1\" class=\"dataframe\">\n",
       "  <thead>\n",
       "    <tr style=\"text-align: right;\">\n",
       "      <th></th>\n",
       "      <th>name</th>\n",
       "      <th>platform</th>\n",
       "      <th>year_of_release</th>\n",
       "      <th>genre</th>\n",
       "      <th>na_sales</th>\n",
       "      <th>eu_sales</th>\n",
       "      <th>jp_sales</th>\n",
       "      <th>other_sales</th>\n",
       "      <th>critic_score</th>\n",
       "      <th>user_score</th>\n",
       "      <th>rating</th>\n",
       "    </tr>\n",
       "  </thead>\n",
       "  <tbody>\n",
       "    <tr>\n",
       "      <th>659</th>\n",
       "      <td>NaN</td>\n",
       "      <td>GEN</td>\n",
       "      <td>1993.0</td>\n",
       "      <td>NaN</td>\n",
       "      <td>1.78</td>\n",
       "      <td>0.53</td>\n",
       "      <td>0.00</td>\n",
       "      <td>0.08</td>\n",
       "      <td>NaN</td>\n",
       "      <td>NaN</td>\n",
       "      <td>NaN</td>\n",
       "    </tr>\n",
       "    <tr>\n",
       "      <th>14244</th>\n",
       "      <td>NaN</td>\n",
       "      <td>GEN</td>\n",
       "      <td>1993.0</td>\n",
       "      <td>NaN</td>\n",
       "      <td>0.00</td>\n",
       "      <td>0.00</td>\n",
       "      <td>0.03</td>\n",
       "      <td>0.00</td>\n",
       "      <td>NaN</td>\n",
       "      <td>NaN</td>\n",
       "      <td>NaN</td>\n",
       "    </tr>\n",
       "  </tbody>\n",
       "</table>\n",
       "</div>"
      ],
      "text/plain": [
       "      name platform  year_of_release genre  na_sales  eu_sales  jp_sales  \\\n",
       "659    NaN      GEN           1993.0   NaN      1.78      0.53      0.00   \n",
       "14244  NaN      GEN           1993.0   NaN      0.00      0.00      0.03   \n",
       "\n",
       "       other_sales  critic_score user_score rating  \n",
       "659           0.08           NaN        NaN    NaN  \n",
       "14244         0.00           NaN        NaN    NaN  "
      ]
     },
     "execution_count": 7,
     "metadata": {},
     "output_type": "execute_result"
    }
   ],
   "source": [
    "# Encuentra los valores ausentes en la columna 'genre'\n",
    "data[data[\"genre\"].isna()]"
   ]
  },
  {
   "cell_type": "markdown",
   "metadata": {},
   "source": [
    "Dado que observamos que los dos datos ausentes en las columnas 'name' y 'genre' proceden de las mismas filas, y por la gran cantidad de datos de la base (16,715), podemos prescindir de estas filas sin afectar el análisis de datos posterior. \n",
    "\n",
    "Por otra parte, cabe destacar que es posible que estas filas tengan estos datos ausentes debido a errores humanos al momento de recopilar los datos, como podría ser un simple descuido."
   ]
  },
  {
   "cell_type": "code",
   "execution_count": 8,
   "metadata": {
    "scrolled": true
   },
   "outputs": [
    {
     "name": "stdout",
     "output_type": "stream",
     "text": [
      "<class 'pandas.core.frame.DataFrame'>\n",
      "RangeIndex: 16713 entries, 0 to 16712\n",
      "Data columns (total 11 columns):\n",
      " #   Column           Non-Null Count  Dtype  \n",
      "---  ------           --------------  -----  \n",
      " 0   name             16713 non-null  object \n",
      " 1   platform         16713 non-null  object \n",
      " 2   year_of_release  16444 non-null  float64\n",
      " 3   genre            16713 non-null  object \n",
      " 4   na_sales         16713 non-null  float64\n",
      " 5   eu_sales         16713 non-null  float64\n",
      " 6   jp_sales         16713 non-null  float64\n",
      " 7   other_sales      16713 non-null  float64\n",
      " 8   critic_score     8137 non-null   float64\n",
      " 9   user_score       10014 non-null  object \n",
      " 10  rating           9949 non-null   object \n",
      "dtypes: float64(6), object(5)\n",
      "memory usage: 1.4+ MB\n",
      "None\n"
     ]
    }
   ],
   "source": [
    "# Eliminar filas 659 y 14244\n",
    "data = data.drop([659, 14244]).reset_index(drop = True)\n",
    "\n",
    "# Confirmar cambio\n",
    "print(data.info())"
   ]
  },
  {
   "cell_type": "markdown",
   "metadata": {},
   "source": [
    "Procedemos con el análisis de datos ausentes en las columnas 'user_score' y 'rating'."
   ]
  },
  {
   "cell_type": "code",
   "execution_count": 9,
   "metadata": {},
   "outputs": [
    {
     "data": {
      "text/html": [
       "<div>\n",
       "<style scoped>\n",
       "    .dataframe tbody tr th:only-of-type {\n",
       "        vertical-align: middle;\n",
       "    }\n",
       "\n",
       "    .dataframe tbody tr th {\n",
       "        vertical-align: top;\n",
       "    }\n",
       "\n",
       "    .dataframe thead th {\n",
       "        text-align: right;\n",
       "    }\n",
       "</style>\n",
       "<table border=\"1\" class=\"dataframe\">\n",
       "  <thead>\n",
       "    <tr style=\"text-align: right;\">\n",
       "      <th></th>\n",
       "      <th>name</th>\n",
       "      <th>platform</th>\n",
       "      <th>year_of_release</th>\n",
       "      <th>genre</th>\n",
       "      <th>na_sales</th>\n",
       "      <th>eu_sales</th>\n",
       "      <th>jp_sales</th>\n",
       "      <th>other_sales</th>\n",
       "      <th>critic_score</th>\n",
       "      <th>user_score</th>\n",
       "      <th>rating</th>\n",
       "    </tr>\n",
       "  </thead>\n",
       "  <tbody>\n",
       "    <tr>\n",
       "      <th>1</th>\n",
       "      <td>Super Mario Bros.</td>\n",
       "      <td>NES</td>\n",
       "      <td>1985.0</td>\n",
       "      <td>Platform</td>\n",
       "      <td>29.08</td>\n",
       "      <td>3.58</td>\n",
       "      <td>6.81</td>\n",
       "      <td>0.77</td>\n",
       "      <td>NaN</td>\n",
       "      <td>NaN</td>\n",
       "      <td>NaN</td>\n",
       "    </tr>\n",
       "    <tr>\n",
       "      <th>4</th>\n",
       "      <td>Pokemon Red/Pokemon Blue</td>\n",
       "      <td>GB</td>\n",
       "      <td>1996.0</td>\n",
       "      <td>Role-Playing</td>\n",
       "      <td>11.27</td>\n",
       "      <td>8.89</td>\n",
       "      <td>10.22</td>\n",
       "      <td>1.00</td>\n",
       "      <td>NaN</td>\n",
       "      <td>NaN</td>\n",
       "      <td>NaN</td>\n",
       "    </tr>\n",
       "    <tr>\n",
       "      <th>5</th>\n",
       "      <td>Tetris</td>\n",
       "      <td>GB</td>\n",
       "      <td>1989.0</td>\n",
       "      <td>Puzzle</td>\n",
       "      <td>23.20</td>\n",
       "      <td>2.26</td>\n",
       "      <td>4.22</td>\n",
       "      <td>0.58</td>\n",
       "      <td>NaN</td>\n",
       "      <td>NaN</td>\n",
       "      <td>NaN</td>\n",
       "    </tr>\n",
       "    <tr>\n",
       "      <th>9</th>\n",
       "      <td>Duck Hunt</td>\n",
       "      <td>NES</td>\n",
       "      <td>1984.0</td>\n",
       "      <td>Shooter</td>\n",
       "      <td>26.93</td>\n",
       "      <td>0.63</td>\n",
       "      <td>0.28</td>\n",
       "      <td>0.47</td>\n",
       "      <td>NaN</td>\n",
       "      <td>NaN</td>\n",
       "      <td>NaN</td>\n",
       "    </tr>\n",
       "    <tr>\n",
       "      <th>10</th>\n",
       "      <td>Nintendogs</td>\n",
       "      <td>DS</td>\n",
       "      <td>2005.0</td>\n",
       "      <td>Simulation</td>\n",
       "      <td>9.05</td>\n",
       "      <td>10.95</td>\n",
       "      <td>1.93</td>\n",
       "      <td>2.74</td>\n",
       "      <td>NaN</td>\n",
       "      <td>NaN</td>\n",
       "      <td>NaN</td>\n",
       "    </tr>\n",
       "    <tr>\n",
       "      <th>...</th>\n",
       "      <td>...</td>\n",
       "      <td>...</td>\n",
       "      <td>...</td>\n",
       "      <td>...</td>\n",
       "      <td>...</td>\n",
       "      <td>...</td>\n",
       "      <td>...</td>\n",
       "      <td>...</td>\n",
       "      <td>...</td>\n",
       "      <td>...</td>\n",
       "      <td>...</td>\n",
       "    </tr>\n",
       "    <tr>\n",
       "      <th>16708</th>\n",
       "      <td>Samurai Warriors: Sanada Maru</td>\n",
       "      <td>PS3</td>\n",
       "      <td>2016.0</td>\n",
       "      <td>Action</td>\n",
       "      <td>0.00</td>\n",
       "      <td>0.00</td>\n",
       "      <td>0.01</td>\n",
       "      <td>0.00</td>\n",
       "      <td>NaN</td>\n",
       "      <td>NaN</td>\n",
       "      <td>NaN</td>\n",
       "    </tr>\n",
       "    <tr>\n",
       "      <th>16709</th>\n",
       "      <td>LMA Manager 2007</td>\n",
       "      <td>X360</td>\n",
       "      <td>2006.0</td>\n",
       "      <td>Sports</td>\n",
       "      <td>0.00</td>\n",
       "      <td>0.01</td>\n",
       "      <td>0.00</td>\n",
       "      <td>0.00</td>\n",
       "      <td>NaN</td>\n",
       "      <td>NaN</td>\n",
       "      <td>NaN</td>\n",
       "    </tr>\n",
       "    <tr>\n",
       "      <th>16710</th>\n",
       "      <td>Haitaka no Psychedelica</td>\n",
       "      <td>PSV</td>\n",
       "      <td>2016.0</td>\n",
       "      <td>Adventure</td>\n",
       "      <td>0.00</td>\n",
       "      <td>0.00</td>\n",
       "      <td>0.01</td>\n",
       "      <td>0.00</td>\n",
       "      <td>NaN</td>\n",
       "      <td>NaN</td>\n",
       "      <td>NaN</td>\n",
       "    </tr>\n",
       "    <tr>\n",
       "      <th>16711</th>\n",
       "      <td>Spirits &amp; Spells</td>\n",
       "      <td>GBA</td>\n",
       "      <td>2003.0</td>\n",
       "      <td>Platform</td>\n",
       "      <td>0.01</td>\n",
       "      <td>0.00</td>\n",
       "      <td>0.00</td>\n",
       "      <td>0.00</td>\n",
       "      <td>NaN</td>\n",
       "      <td>NaN</td>\n",
       "      <td>NaN</td>\n",
       "    </tr>\n",
       "    <tr>\n",
       "      <th>16712</th>\n",
       "      <td>Winning Post 8 2016</td>\n",
       "      <td>PSV</td>\n",
       "      <td>2016.0</td>\n",
       "      <td>Simulation</td>\n",
       "      <td>0.00</td>\n",
       "      <td>0.00</td>\n",
       "      <td>0.01</td>\n",
       "      <td>0.00</td>\n",
       "      <td>NaN</td>\n",
       "      <td>NaN</td>\n",
       "      <td>NaN</td>\n",
       "    </tr>\n",
       "  </tbody>\n",
       "</table>\n",
       "<p>6699 rows × 11 columns</p>\n",
       "</div>"
      ],
      "text/plain": [
       "                                name platform  year_of_release         genre  \\\n",
       "1                  Super Mario Bros.      NES           1985.0      Platform   \n",
       "4           Pokemon Red/Pokemon Blue       GB           1996.0  Role-Playing   \n",
       "5                             Tetris       GB           1989.0        Puzzle   \n",
       "9                          Duck Hunt      NES           1984.0       Shooter   \n",
       "10                        Nintendogs       DS           2005.0    Simulation   \n",
       "...                              ...      ...              ...           ...   \n",
       "16708  Samurai Warriors: Sanada Maru      PS3           2016.0        Action   \n",
       "16709               LMA Manager 2007     X360           2006.0        Sports   \n",
       "16710        Haitaka no Psychedelica      PSV           2016.0     Adventure   \n",
       "16711               Spirits & Spells      GBA           2003.0      Platform   \n",
       "16712            Winning Post 8 2016      PSV           2016.0    Simulation   \n",
       "\n",
       "       na_sales  eu_sales  jp_sales  other_sales  critic_score user_score  \\\n",
       "1         29.08      3.58      6.81         0.77           NaN        NaN   \n",
       "4         11.27      8.89     10.22         1.00           NaN        NaN   \n",
       "5         23.20      2.26      4.22         0.58           NaN        NaN   \n",
       "9         26.93      0.63      0.28         0.47           NaN        NaN   \n",
       "10         9.05     10.95      1.93         2.74           NaN        NaN   \n",
       "...         ...       ...       ...          ...           ...        ...   \n",
       "16708      0.00      0.00      0.01         0.00           NaN        NaN   \n",
       "16709      0.00      0.01      0.00         0.00           NaN        NaN   \n",
       "16710      0.00      0.00      0.01         0.00           NaN        NaN   \n",
       "16711      0.01      0.00      0.00         0.00           NaN        NaN   \n",
       "16712      0.00      0.00      0.01         0.00           NaN        NaN   \n",
       "\n",
       "      rating  \n",
       "1        NaN  \n",
       "4        NaN  \n",
       "5        NaN  \n",
       "9        NaN  \n",
       "10       NaN  \n",
       "...      ...  \n",
       "16708    NaN  \n",
       "16709    NaN  \n",
       "16710    NaN  \n",
       "16711    NaN  \n",
       "16712    NaN  \n",
       "\n",
       "[6699 rows x 11 columns]"
      ]
     },
     "execution_count": 9,
     "metadata": {},
     "output_type": "execute_result"
    }
   ],
   "source": [
    "# Encuentra los valores ausentes en la columna 'user_score'\n",
    "data[data[\"user_score\"].isna()]"
   ]
  },
  {
   "cell_type": "code",
   "execution_count": 10,
   "metadata": {},
   "outputs": [
    {
     "data": {
      "text/html": [
       "<div>\n",
       "<style scoped>\n",
       "    .dataframe tbody tr th:only-of-type {\n",
       "        vertical-align: middle;\n",
       "    }\n",
       "\n",
       "    .dataframe tbody tr th {\n",
       "        vertical-align: top;\n",
       "    }\n",
       "\n",
       "    .dataframe thead th {\n",
       "        text-align: right;\n",
       "    }\n",
       "</style>\n",
       "<table border=\"1\" class=\"dataframe\">\n",
       "  <thead>\n",
       "    <tr style=\"text-align: right;\">\n",
       "      <th></th>\n",
       "      <th>name</th>\n",
       "      <th>platform</th>\n",
       "      <th>year_of_release</th>\n",
       "      <th>genre</th>\n",
       "      <th>na_sales</th>\n",
       "      <th>eu_sales</th>\n",
       "      <th>jp_sales</th>\n",
       "      <th>other_sales</th>\n",
       "      <th>critic_score</th>\n",
       "      <th>user_score</th>\n",
       "      <th>rating</th>\n",
       "    </tr>\n",
       "  </thead>\n",
       "  <tbody>\n",
       "    <tr>\n",
       "      <th>1</th>\n",
       "      <td>Super Mario Bros.</td>\n",
       "      <td>NES</td>\n",
       "      <td>1985.0</td>\n",
       "      <td>Platform</td>\n",
       "      <td>29.08</td>\n",
       "      <td>3.58</td>\n",
       "      <td>6.81</td>\n",
       "      <td>0.77</td>\n",
       "      <td>NaN</td>\n",
       "      <td>NaN</td>\n",
       "      <td>NaN</td>\n",
       "    </tr>\n",
       "    <tr>\n",
       "      <th>4</th>\n",
       "      <td>Pokemon Red/Pokemon Blue</td>\n",
       "      <td>GB</td>\n",
       "      <td>1996.0</td>\n",
       "      <td>Role-Playing</td>\n",
       "      <td>11.27</td>\n",
       "      <td>8.89</td>\n",
       "      <td>10.22</td>\n",
       "      <td>1.00</td>\n",
       "      <td>NaN</td>\n",
       "      <td>NaN</td>\n",
       "      <td>NaN</td>\n",
       "    </tr>\n",
       "    <tr>\n",
       "      <th>5</th>\n",
       "      <td>Tetris</td>\n",
       "      <td>GB</td>\n",
       "      <td>1989.0</td>\n",
       "      <td>Puzzle</td>\n",
       "      <td>23.20</td>\n",
       "      <td>2.26</td>\n",
       "      <td>4.22</td>\n",
       "      <td>0.58</td>\n",
       "      <td>NaN</td>\n",
       "      <td>NaN</td>\n",
       "      <td>NaN</td>\n",
       "    </tr>\n",
       "    <tr>\n",
       "      <th>9</th>\n",
       "      <td>Duck Hunt</td>\n",
       "      <td>NES</td>\n",
       "      <td>1984.0</td>\n",
       "      <td>Shooter</td>\n",
       "      <td>26.93</td>\n",
       "      <td>0.63</td>\n",
       "      <td>0.28</td>\n",
       "      <td>0.47</td>\n",
       "      <td>NaN</td>\n",
       "      <td>NaN</td>\n",
       "      <td>NaN</td>\n",
       "    </tr>\n",
       "    <tr>\n",
       "      <th>10</th>\n",
       "      <td>Nintendogs</td>\n",
       "      <td>DS</td>\n",
       "      <td>2005.0</td>\n",
       "      <td>Simulation</td>\n",
       "      <td>9.05</td>\n",
       "      <td>10.95</td>\n",
       "      <td>1.93</td>\n",
       "      <td>2.74</td>\n",
       "      <td>NaN</td>\n",
       "      <td>NaN</td>\n",
       "      <td>NaN</td>\n",
       "    </tr>\n",
       "    <tr>\n",
       "      <th>...</th>\n",
       "      <td>...</td>\n",
       "      <td>...</td>\n",
       "      <td>...</td>\n",
       "      <td>...</td>\n",
       "      <td>...</td>\n",
       "      <td>...</td>\n",
       "      <td>...</td>\n",
       "      <td>...</td>\n",
       "      <td>...</td>\n",
       "      <td>...</td>\n",
       "      <td>...</td>\n",
       "    </tr>\n",
       "    <tr>\n",
       "      <th>16708</th>\n",
       "      <td>Samurai Warriors: Sanada Maru</td>\n",
       "      <td>PS3</td>\n",
       "      <td>2016.0</td>\n",
       "      <td>Action</td>\n",
       "      <td>0.00</td>\n",
       "      <td>0.00</td>\n",
       "      <td>0.01</td>\n",
       "      <td>0.00</td>\n",
       "      <td>NaN</td>\n",
       "      <td>NaN</td>\n",
       "      <td>NaN</td>\n",
       "    </tr>\n",
       "    <tr>\n",
       "      <th>16709</th>\n",
       "      <td>LMA Manager 2007</td>\n",
       "      <td>X360</td>\n",
       "      <td>2006.0</td>\n",
       "      <td>Sports</td>\n",
       "      <td>0.00</td>\n",
       "      <td>0.01</td>\n",
       "      <td>0.00</td>\n",
       "      <td>0.00</td>\n",
       "      <td>NaN</td>\n",
       "      <td>NaN</td>\n",
       "      <td>NaN</td>\n",
       "    </tr>\n",
       "    <tr>\n",
       "      <th>16710</th>\n",
       "      <td>Haitaka no Psychedelica</td>\n",
       "      <td>PSV</td>\n",
       "      <td>2016.0</td>\n",
       "      <td>Adventure</td>\n",
       "      <td>0.00</td>\n",
       "      <td>0.00</td>\n",
       "      <td>0.01</td>\n",
       "      <td>0.00</td>\n",
       "      <td>NaN</td>\n",
       "      <td>NaN</td>\n",
       "      <td>NaN</td>\n",
       "    </tr>\n",
       "    <tr>\n",
       "      <th>16711</th>\n",
       "      <td>Spirits &amp; Spells</td>\n",
       "      <td>GBA</td>\n",
       "      <td>2003.0</td>\n",
       "      <td>Platform</td>\n",
       "      <td>0.01</td>\n",
       "      <td>0.00</td>\n",
       "      <td>0.00</td>\n",
       "      <td>0.00</td>\n",
       "      <td>NaN</td>\n",
       "      <td>NaN</td>\n",
       "      <td>NaN</td>\n",
       "    </tr>\n",
       "    <tr>\n",
       "      <th>16712</th>\n",
       "      <td>Winning Post 8 2016</td>\n",
       "      <td>PSV</td>\n",
       "      <td>2016.0</td>\n",
       "      <td>Simulation</td>\n",
       "      <td>0.00</td>\n",
       "      <td>0.00</td>\n",
       "      <td>0.01</td>\n",
       "      <td>0.00</td>\n",
       "      <td>NaN</td>\n",
       "      <td>NaN</td>\n",
       "      <td>NaN</td>\n",
       "    </tr>\n",
       "  </tbody>\n",
       "</table>\n",
       "<p>6764 rows × 11 columns</p>\n",
       "</div>"
      ],
      "text/plain": [
       "                                name platform  year_of_release         genre  \\\n",
       "1                  Super Mario Bros.      NES           1985.0      Platform   \n",
       "4           Pokemon Red/Pokemon Blue       GB           1996.0  Role-Playing   \n",
       "5                             Tetris       GB           1989.0        Puzzle   \n",
       "9                          Duck Hunt      NES           1984.0       Shooter   \n",
       "10                        Nintendogs       DS           2005.0    Simulation   \n",
       "...                              ...      ...              ...           ...   \n",
       "16708  Samurai Warriors: Sanada Maru      PS3           2016.0        Action   \n",
       "16709               LMA Manager 2007     X360           2006.0        Sports   \n",
       "16710        Haitaka no Psychedelica      PSV           2016.0     Adventure   \n",
       "16711               Spirits & Spells      GBA           2003.0      Platform   \n",
       "16712            Winning Post 8 2016      PSV           2016.0    Simulation   \n",
       "\n",
       "       na_sales  eu_sales  jp_sales  other_sales  critic_score user_score  \\\n",
       "1         29.08      3.58      6.81         0.77           NaN        NaN   \n",
       "4         11.27      8.89     10.22         1.00           NaN        NaN   \n",
       "5         23.20      2.26      4.22         0.58           NaN        NaN   \n",
       "9         26.93      0.63      0.28         0.47           NaN        NaN   \n",
       "10         9.05     10.95      1.93         2.74           NaN        NaN   \n",
       "...         ...       ...       ...          ...           ...        ...   \n",
       "16708      0.00      0.00      0.01         0.00           NaN        NaN   \n",
       "16709      0.00      0.01      0.00         0.00           NaN        NaN   \n",
       "16710      0.00      0.00      0.01         0.00           NaN        NaN   \n",
       "16711      0.01      0.00      0.00         0.00           NaN        NaN   \n",
       "16712      0.00      0.00      0.01         0.00           NaN        NaN   \n",
       "\n",
       "      rating  \n",
       "1        NaN  \n",
       "4        NaN  \n",
       "5        NaN  \n",
       "9        NaN  \n",
       "10       NaN  \n",
       "...      ...  \n",
       "16708    NaN  \n",
       "16709    NaN  \n",
       "16710    NaN  \n",
       "16711    NaN  \n",
       "16712    NaN  \n",
       "\n",
       "[6764 rows x 11 columns]"
      ]
     },
     "execution_count": 10,
     "metadata": {},
     "output_type": "execute_result"
    }
   ],
   "source": [
    "# Encuentra los valores ausentes en la columna 'rating'\n",
    "data[data[\"rating\"].isna()]"
   ]
  },
  {
   "cell_type": "markdown",
   "metadata": {},
   "source": [
    "Se procederá a dejar estos datos ausentes como tal, para no afectar el análisis de datos posterior al momento de hacer cualquier operación matemática. Esto, considerando que si, por ejemplo, cambiamos estos valores ausentes a una calificación de 0 (cero), datos como el promedio podrían verse afectados.\n",
    "\n",
    "Por otra parte, es posible que estos datos ausentes se deban a que el crítico, usuario y el Entertainment Software Rating Board no proporcionaron una puntuación para los videojuegos en cuestión y/o no era obligatorio hacerlo."
   ]
  },
  {
   "cell_type": "code",
   "execution_count": 11,
   "metadata": {},
   "outputs": [
    {
     "data": {
      "text/plain": [
       "array(['8', nan, '8.3', '8.5', '6.6', '8.4', '8.6', '7.7', '6.3', '7.4',\n",
       "       '8.2', '9', '7.9', '8.1', '8.7', '7.1', '3.4', '5.3', '4.8', '3.2',\n",
       "       '8.9', '6.4', '7.8', '7.5', '2.6', '7.2', '9.2', '7', '7.3', '4.3',\n",
       "       '7.6', '5.7', '5', '9.1', '6.5', 'tbd', '8.8', '6.9', '9.4', '6.8',\n",
       "       '6.1', '6.7', '5.4', '4', '4.9', '4.5', '9.3', '6.2', '4.2', '6',\n",
       "       '3.7', '4.1', '5.8', '5.6', '5.5', '4.4', '4.6', '5.9', '3.9',\n",
       "       '3.1', '2.9', '5.2', '3.3', '4.7', '5.1', '3.5', '2.5', '1.9', '3',\n",
       "       '2.7', '2.2', '2', '9.5', '2.1', '3.6', '2.8', '1.8', '3.8', '0',\n",
       "       '1.6', '9.6', '2.4', '1.7', '1.1', '0.3', '1.5', '0.7', '1.2',\n",
       "       '2.3', '0.5', '1.3', '0.2', '0.6', '1.4', '0.9', '1', '9.7'],\n",
       "      dtype=object)"
      ]
     },
     "execution_count": 11,
     "metadata": {},
     "output_type": "execute_result"
    }
   ],
   "source": [
    "# Encontrar columna con abreviatura TBD\n",
    "data['user_score'].unique()"
   ]
  },
  {
   "cell_type": "markdown",
   "metadata": {},
   "source": [
    "Por otra parte, se encontró que la columna 'user_score' tiene calificaciones por determinar (tbd: to be determined). Estas se tratarán como datos ausentes para que el análisis posterior no sea afectado al momento de hacer operaciones matemáticas con estos datos."
   ]
  },
  {
   "cell_type": "code",
   "execution_count": 12,
   "metadata": {},
   "outputs": [
    {
     "data": {
      "text/plain": [
       "array(['8', nan, '8.3', '8.5', '6.6', '8.4', '8.6', '7.7', '6.3', '7.4',\n",
       "       '8.2', '9', '7.9', '8.1', '8.7', '7.1', '3.4', '5.3', '4.8', '3.2',\n",
       "       '8.9', '6.4', '7.8', '7.5', '2.6', '7.2', '9.2', '7', '7.3', '4.3',\n",
       "       '7.6', '5.7', '5', '9.1', '6.5', '8.8', '6.9', '9.4', '6.8', '6.1',\n",
       "       '6.7', '5.4', '4', '4.9', '4.5', '9.3', '6.2', '4.2', '6', '3.7',\n",
       "       '4.1', '5.8', '5.6', '5.5', '4.4', '4.6', '5.9', '3.9', '3.1',\n",
       "       '2.9', '5.2', '3.3', '4.7', '5.1', '3.5', '2.5', '1.9', '3', '2.7',\n",
       "       '2.2', '2', '9.5', '2.1', '3.6', '2.8', '1.8', '3.8', '0', '1.6',\n",
       "       '9.6', '2.4', '1.7', '1.1', '0.3', '1.5', '0.7', '1.2', '2.3',\n",
       "       '0.5', '1.3', '0.2', '0.6', '1.4', '0.9', '1', '9.7'], dtype=object)"
      ]
     },
     "execution_count": 12,
     "metadata": {},
     "output_type": "execute_result"
    }
   ],
   "source": [
    "# Cambiamos los tbd a nan\n",
    "data['user_score'] = data['user_score'].replace('tbd', np.nan)\n",
    "\n",
    "# Verificamos cambio\n",
    "data['user_score'].unique()"
   ]
  },
  {
   "cell_type": "markdown",
   "metadata": {},
   "source": [
    "### Valores duplicados <a id='duplicates'></a>\n",
    "\n",
    "Observamos si la base de datos tiene o no duplicados, ya sean explícitos e implícitos."
   ]
  },
  {
   "cell_type": "code",
   "execution_count": 13,
   "metadata": {},
   "outputs": [
    {
     "data": {
      "text/plain": [
       "0"
      ]
     },
     "execution_count": 13,
     "metadata": {},
     "output_type": "execute_result"
    }
   ],
   "source": [
    "# Contar duplicados explícitos\n",
    "data.duplicated().sum()"
   ]
  },
  {
   "cell_type": "code",
   "execution_count": 14,
   "metadata": {},
   "outputs": [
    {
     "data": {
      "text/plain": [
       "5154"
      ]
     },
     "execution_count": 14,
     "metadata": {},
     "output_type": "execute_result"
    }
   ],
   "source": [
    "# Contar duplicados implícitos\n",
    "data['name'].duplicated().sum()"
   ]
  },
  {
   "cell_type": "code",
   "execution_count": 15,
   "metadata": {},
   "outputs": [
    {
     "name": "stdout",
     "output_type": "stream",
     "text": [
      "                               name platform  year_of_release genre  na_sales  \\\n",
      "8279   uDraw Studio: Instant Artist      Wii           2011.0  Misc      0.06   \n",
      "15610  uDraw Studio: Instant Artist     X360           2011.0  Misc      0.01   \n",
      "\n",
      "       eu_sales  jp_sales  other_sales  critic_score user_score rating  \n",
      "8279       0.09       0.0         0.02           NaN        NaN      E  \n",
      "15610      0.01       0.0         0.00          54.0        5.7      E  \n"
     ]
    }
   ],
   "source": [
    "# Observamos un caso de duplicado implícito\n",
    "df = data.loc[data['name'] == 'uDraw Studio: Instant Artist']\n",
    "\n",
    "print(df)"
   ]
  },
  {
   "cell_type": "markdown",
   "metadata": {},
   "source": [
    "Dado que observamos que no hay duplicados explícitos, y que los duplicados implícitos se deben a que un videojuego puede ser lanzado en más de una plataforma, no hacemos ningún paso adicional para corregir los datos en cuanto a duplicados se refiere."
   ]
  },
  {
   "cell_type": "markdown",
   "metadata": {},
   "source": [
    "### Tipos de datos <a id='data_types'></a>\n",
    "\n",
    "Observamos si los tipos de datos son los correctos para los datos que contienen. Y, en caso de ser necesario, se hace la conversión al tipo de dato correcto."
   ]
  },
  {
   "cell_type": "markdown",
   "metadata": {},
   "source": [
    "Como mencionamos anteriormente, la columna 'year_of_release' y 'critic_score' tienen tipos de datos incorrectos para la información que contienen.\n",
    "\n",
    "Tanto la columna 'year_of_release' y 'critic_score' tienen un tipo de dato flotante cuando, al ser un año y una puntuación que no considerea decimales, solo se ocuparán datos enteros. Esto podría generar que usemos más memoria pero, dado que la base de datos no es lo suficientemente grande para preocuparnos por esto, se procederá a dejar estos tipos de datos."
   ]
  },
  {
   "cell_type": "markdown",
   "metadata": {},
   "source": [
    "Además de estas, obsevamos que la columna 'user_score' tiene un tipo de dato objeto y, dado que almacena datos numéricos con decimales, este debería de ser flotante. Por lo tanto, procedemos hacer el cambio."
   ]
  },
  {
   "cell_type": "code",
   "execution_count": 16,
   "metadata": {},
   "outputs": [
    {
     "name": "stdout",
     "output_type": "stream",
     "text": [
      "<class 'pandas.core.frame.DataFrame'>\n",
      "RangeIndex: 16713 entries, 0 to 16712\n",
      "Data columns (total 11 columns):\n",
      " #   Column           Non-Null Count  Dtype  \n",
      "---  ------           --------------  -----  \n",
      " 0   name             16713 non-null  object \n",
      " 1   platform         16713 non-null  object \n",
      " 2   year_of_release  16444 non-null  float64\n",
      " 3   genre            16713 non-null  object \n",
      " 4   na_sales         16713 non-null  float64\n",
      " 5   eu_sales         16713 non-null  float64\n",
      " 6   jp_sales         16713 non-null  float64\n",
      " 7   other_sales      16713 non-null  float64\n",
      " 8   critic_score     8137 non-null   float64\n",
      " 9   user_score       7590 non-null   float64\n",
      " 10  rating           9949 non-null   object \n",
      "dtypes: float64(7), object(4)\n",
      "memory usage: 1.4+ MB\n"
     ]
    }
   ],
   "source": [
    "# Convertimos la columna a dato de tipo flotante\n",
    "data['user_score'] = data['user_score'].astype('float')\n",
    "\n",
    "# Comprobamos el cambio\n",
    "data.info()"
   ]
  },
  {
   "cell_type": "markdown",
   "metadata": {},
   "source": [
    "### Columna de ventas totales para cada juego <a id='total_sales'></a>\n",
    "\n",
    "Creamos una nueva columna que considere las ventas totales para cada juego, obtenido mediante la suma de las ventas para todas las regiones."
   ]
  },
  {
   "cell_type": "code",
   "execution_count": 17,
   "metadata": {},
   "outputs": [
    {
     "name": "stdout",
     "output_type": "stream",
     "text": [
      "                               name  total_sales\n",
      "14981                Beyblade Burst         0.03\n",
      "1078              Fire Emblem Fates         1.67\n",
      "3357           Frozen: Olaf's Quest         0.59\n",
      "3861           Frozen: Olaf's Quest         0.51\n",
      "13793    Haikyu!! Cross Team Match!         0.04\n",
      "...                             ...          ...\n",
      "645                    uDraw Studio         2.42\n",
      "15610  uDraw Studio: Instant Artist         0.02\n",
      "8279   uDraw Studio: Instant Artist         0.17\n",
      "475      wwe Smackdown vs. Raw 2006         3.00\n",
      "9133   ¡Shin Chan Flipa en colores!         0.14\n",
      "\n",
      "[16713 rows x 2 columns]\n"
     ]
    }
   ],
   "source": [
    "# Sumamos las ventas para cada una de las regiones\n",
    "data['total_sales'] = data['na_sales'] + data['eu_sales'] + data['jp_sales'] + data['other_sales']\n",
    "\n",
    "# Imprime el DataFrame con la nueva columna de total_sales\n",
    "print(data[['name','total_sales']].sort_values(by='name', ascending=True))"
   ]
  },
  {
   "cell_type": "markdown",
   "metadata": {},
   "source": [
    "### Conclusiones <a id='data_preprocessing_conclusions'></a>\n",
    "\n",
    "En conclusión, los cambios del preprocesamiento de datos fueron los siguientes:\n",
    "\n",
    "- Nombres de columnas: \n",
    "    - Se pasaron todos los caracteres a minúsculas.\n",
    "- Valores ausentes:\n",
    "    - Se eliminaron las filas 659 y 14244, pues no tenían el nombre del videojuego.\n",
    "    - No se cambiaron los valores ausentes por otro valor.\n",
    "    - Se cambió la terminología 'tbd' (to be determined) a valor ausente para poder hacer operaciones matemáticas sin problemas.\n",
    "- Valores duplicados:\n",
    "    - No se hicieron cambios, pues no se encontraron duplicados explícitos y los duplicados implícitos se debían a que los videojuegos pueden salir para más de una plataforma de juegos.\n",
    "- Tipos de datos:\n",
    "    - Dado que no representan un problema para el análisis de datos, se dejaron como estaban originalmente las columnas 'year_of_release' y 'critic_score'.\n",
    "    - Por otro lado, para la columna 'user_score' se cambió de tipo de dato objeto a flotante.\n",
    "- Creación de nuevas columnas:\n",
    "    - Se creó la columna 'total_sales' al sumar las ventas de cada videojuego en todas las regiones."
   ]
  },
  {
   "cell_type": "markdown",
   "metadata": {},
   "source": [
    "## 3. Análisis de datos <a id='data_analysis'></a>"
   ]
  },
  {
   "cell_type": "markdown",
   "metadata": {},
   "source": [
    "### Total de juegos lanzados en cada año <a id='total_games_year'></a>"
   ]
  },
  {
   "cell_type": "code",
   "execution_count": 18,
   "metadata": {},
   "outputs": [
    {
     "data": {
      "text/plain": [
       "<AxesSubplot:title={'center':'Total de juegos lanzados por año'}, xlabel='Año', ylabel='Total de juegos lanzados (unidad)'>"
      ]
     },
     "execution_count": 18,
     "metadata": {},
     "output_type": "execute_result"
    },
    {
     "data": {
      "image/png": "[encoded data removed]",
      "text/plain": [
       "<Figure size 720x432 with 1 Axes>"
      ]
     },
     "metadata": {
      "needs_background": "light"
     },
     "output_type": "display_data"
    }
   ],
   "source": [
    "# Obtenemos el total de juegos lanzados en cada año\n",
    "\n",
    "# Agrupa por año y obtenemos un recuento de nombres de los juegos únicos\n",
    "total_games_launched = data.groupby(['year_of_release'])['name'].nunique()\n",
    "\n",
    "# Hacemos la gráfica de barras\n",
    "total_games_launched.plot(x = 'year_of_release',\n",
    "y = 'name', kind = 'bar',\n",
    "title = 'Total de juegos lanzados por año',\n",
    "xlabel = \"Año\",\n",
    "ylabel = \"Total de juegos lanzados (unidad)\",\n",
    "figsize = [10, 6])"
   ]
  },
  {
   "cell_type": "markdown",
   "metadata": {},
   "source": [
    "Nos podemos dar cuenta que el número de juegos lanzados por años empezó de manera constante desde 1980, pero a partir del año de 1900 tuvo un aumento exponencial hasta alcanzar un punto máximo en el 2008. A partir de este punto el número de juegos lanzados empezó a disminuir considerablemente.\n",
    "\n",
    "Considerando que la tecnología, y por lo tanto los videojuegos, se desarrollan rápidamente y hay muchos cambios en poco tiempo, no todos los años serán relevantes para el análisis."
   ]
  },
  {
   "cell_type": "markdown",
   "metadata": {},
   "source": [
    "### Ventas totales por plataforma <a id='total_sales_platforms'></a>"
   ]
  },
  {
   "cell_type": "code",
   "execution_count": 19,
   "metadata": {},
   "outputs": [
    {
     "data": {
      "image/png": "[encoded data removed]",
      "text/plain": [
       "<Figure size 720x432 with 1 Axes>"
      ]
     },
     "metadata": {
      "needs_background": "light"
     },
     "output_type": "display_data"
    }
   ],
   "source": [
    "# Variación de las ventas por cada plataforma\n",
    "\n",
    "# Agrupamos los datos por plataforma\n",
    "total_sales_per_platform = data.groupby('platform')['total_sales'].sum().reset_index().sort_values(by='total_sales', ascending=False)\n",
    "\n",
    "# Hacemos la gráfica de barras\n",
    "total_sales_per_platform.plot(\n",
    "    x = 'platform',\n",
    "    y = 'total_sales',\n",
    "    kind = 'bar',\n",
    "    title = \"Ventas totales por plataforma\",\n",
    "    xlabel = \"Plataforma\",\n",
    "    ylabel = \"Ventas totales (millones de USD)\",\n",
    "    figsize = [10, 6]\n",
    ")\n",
    "\n",
    "# Especificamos las leyendas\n",
    "plt.legend([])\n",
    "plt.show()"
   ]
  },
  {
   "cell_type": "markdown",
   "metadata": {},
   "source": [
    "Podemos observar que las plataformas con las mayores ventas son PS2, Xbox 360, PS3, Wii, DS, y PS, respectivamente. De ahí, el resto de plataformas tienen ventas mucho menores, siendo más de la mitad de las ventas de la plataforma PS."
   ]
  },
  {
   "cell_type": "markdown",
   "metadata": {},
   "source": [
    "### Ventas anuales de plataformas con mayores ventas <a id='anual_sales_platforms'></a>"
   ]
  },
  {
   "cell_type": "code",
   "execution_count": 20,
   "metadata": {},
   "outputs": [
    {
     "data": {
      "text/html": [
       "<div>\n",
       "<style scoped>\n",
       "    .dataframe tbody tr th:only-of-type {\n",
       "        vertical-align: middle;\n",
       "    }\n",
       "\n",
       "    .dataframe tbody tr th {\n",
       "        vertical-align: top;\n",
       "    }\n",
       "\n",
       "    .dataframe thead th {\n",
       "        text-align: right;\n",
       "    }\n",
       "</style>\n",
       "<table border=\"1\" class=\"dataframe\">\n",
       "  <thead>\n",
       "    <tr style=\"text-align: right;\">\n",
       "      <th></th>\n",
       "      <th>platform</th>\n",
       "      <th>year_of_release</th>\n",
       "      <th>total_sales</th>\n",
       "    </tr>\n",
       "  </thead>\n",
       "  <tbody>\n",
       "    <tr>\n",
       "      <th>121</th>\n",
       "      <td>PS</td>\n",
       "      <td>1995.0</td>\n",
       "      <td>35.96</td>\n",
       "    </tr>\n",
       "    <tr>\n",
       "      <th>126</th>\n",
       "      <td>PS</td>\n",
       "      <td>2000.0</td>\n",
       "      <td>96.37</td>\n",
       "    </tr>\n",
       "    <tr>\n",
       "      <th>139</th>\n",
       "      <td>PS2</td>\n",
       "      <td>2009.0</td>\n",
       "      <td>26.40</td>\n",
       "    </tr>\n",
       "    <tr>\n",
       "      <th>34</th>\n",
       "      <td>DS</td>\n",
       "      <td>2012.0</td>\n",
       "      <td>11.01</td>\n",
       "    </tr>\n",
       "  </tbody>\n",
       "</table>\n",
       "</div>"
      ],
      "text/plain": [
       "    platform  year_of_release  total_sales\n",
       "121       PS           1995.0        35.96\n",
       "126       PS           2000.0        96.37\n",
       "139      PS2           2009.0        26.40\n",
       "34        DS           2012.0        11.01"
      ]
     },
     "metadata": {},
     "output_type": "display_data"
    }
   ],
   "source": [
    "# Obtenemos un nuevo Data Frame con los datos necesarios\n",
    "\n",
    "# Obtenemos una lista de las plataformas con mayores ventas\n",
    "max_platforms = ['PS2', 'X360', 'PS3', 'Wii', 'DS', 'PS']\n",
    "\n",
    "# Agrupamos por plataforma y año de lanzamiento, y obtenemos la suma de las ventas totales\n",
    "sales_max_platforms = data.groupby(['platform', 'year_of_release'])['total_sales'].sum().reset_index()\n",
    "\n",
    "#Selecionamos únicamente las plataformas con mayores ventas\n",
    "sales_max_platforms = sales_max_platforms[sales_max_platforms['platform'].isin(max_platforms)]\n",
    "\n",
    "# Verificamos nuevo Data Frame\n",
    "display(sales_max_platforms.sample(4))"
   ]
  },
  {
   "cell_type": "code",
   "execution_count": 21,
   "metadata": {},
   "outputs": [],
   "source": [
    "# Distribución de ventas por año de las plataformas con mayores ventas\n",
    "\n",
    "# Creamos una lista de apoyo donde se guardarán todas las variables de ventas\n",
    "sales_variables = []\n",
    "\n",
    "# Creamos Data Frame de apoyo\n",
    "empty_data = {\n",
    "    'platform': [],\n",
    "    'year_of_release': [],\n",
    "    'total_sales': []\n",
    "}\n",
    "annual_sales_platforms = pd.DataFrame(empty_data)\n",
    "\n",
    "# Creamos un Data Frame por cada una de las plataformas\n",
    "for platform in max_platforms:\n",
    "    platform_info = sales_max_platforms[sales_max_platforms['platform'] == platform]\n",
    "    annual_sales_platforms = annual_sales_platforms.merge(platform_info, how='outer', on='year_of_release', suffixes=(None, f'_{platform.lower()}'))\n",
    "    sales_variables.append(f'total_sales_{platform.lower()}')"
   ]
  },
  {
   "cell_type": "code",
   "execution_count": 22,
   "metadata": {},
   "outputs": [
    {
     "data": {
      "image/png": "[encoded data removed]",
      "text/plain": [
       "<Figure size 2160x720 with 1 Axes>"
      ]
     },
     "metadata": {
      "needs_background": "light"
     },
     "output_type": "display_data"
    }
   ],
   "source": [
    "# Hacemos la gráfica de barras\n",
    "annual_sales_platforms.sort_values(by='year_of_release').plot(\n",
    "    x = \"year_of_release\",\n",
    "    y = sales_variables,\n",
    "    kind = 'bar',\n",
    "    title = \"Ventas totales por plataforma\",\n",
    "    xlabel = \"Año\",\n",
    "    ylabel = \"Ventas totales (millones de USD)\",\n",
    "    figsize = [30, 10]\n",
    ")\n",
    "\n",
    "# Especificamos las leyendas de planes\n",
    "plt.legend(max_platforms)\n",
    "plt.show()"
   ]
  },
  {
   "cell_type": "markdown",
   "metadata": {},
   "source": [
    "Podemos observar que varias de las plataformas que eran populares ahora ya no existen, como lo son el PlayStation, PlayStation2 y el Nintendo DS. \n",
    "\n",
    "Asimismo, podemos observar que cuando una plataforma llega a su máximo en ventas y posteriormente comienzan a bajar las ventas, se tarda aproximadamente un año en que una plataforma nueva aparezca a reemplazarla. Esto se puede deber a los anuncios que hacen las empresas sobre una nueva plataforma, lo que ocasiona que lo usuarios prefieran invertir en una consola nueva y comiencen comprar juegos para dicha consola.\n",
    "\n",
    "De ahí, las plataformas antiguas se tardan de entre 4 a 5 años en desaparecer después de que las nuevas plataformas comienzan a tener ventas."
   ]
  },
  {
   "cell_type": "markdown",
   "metadata": {},
   "source": [
    "### Selección de datos relevantes <a id='relevant_data'></a>"
   ]
  },
  {
   "cell_type": "markdown",
   "metadata": {},
   "source": [
    "Debido a lo anterior, procederemos a analizar únicamente los datos desde 2011, pues solo así garantizaremos que las plataformas analizadas sean las vigentes, que las preferencias de los usuarios se reflejen correctamente (considerando que las preferencias de los usuarios cambian con el tiempo), y podremos analizar la caída de las ventas en los videojuegos.\n",
    "\n",
    "El tomar esta decisión también se ve respaldada porque la teconología, como lo son los videojuegos, experimenta cambios sustanciales en periodos de tiempo muy cortos. Por lo que también conviene no tomar un periodo de tiempo extenso."
   ]
  },
  {
   "cell_type": "code",
   "execution_count": 23,
   "metadata": {},
   "outputs": [
    {
     "name": "stdout",
     "output_type": "stream",
     "text": [
      "                                        name platform  year_of_release  \\\n",
      "6994                                  XCOM 2       PC           2016.0   \n",
      "8811                            Tokyo Xanadu      PSV           2015.0   \n",
      "7952  Earth Defense Force: Insect Armageddon     X360           2011.0   \n",
      "\n",
      "             genre  na_sales  eu_sales  jp_sales  other_sales  critic_score  \\\n",
      "6994      Strategy      0.09      0.12      0.00         0.02          88.0   \n",
      "8811  Role-Playing      0.00      0.00      0.15         0.00           NaN   \n",
      "7952       Shooter      0.10      0.04      0.03         0.01          68.0   \n",
      "\n",
      "      user_score rating  total_sales  \n",
      "6994         7.1      T         0.23  \n",
      "8811         NaN    NaN         0.15  \n",
      "7952         8.2      T         0.18  \n"
     ]
    }
   ],
   "source": [
    "# Obtenemos únicamente los datos relevantes para el análisis\n",
    "relevant_data = data[data['year_of_release'] >= 2011]\n",
    "\n",
    "# Verificamos nuevo DataFrame\n",
    "print(relevant_data.sample(3))"
   ]
  },
  {
   "cell_type": "markdown",
   "metadata": {},
   "source": [
    "### Plataformas líderes en ventas <a id='leader_sales_platforms'></a>"
   ]
  },
  {
   "cell_type": "code",
   "execution_count": 24,
   "metadata": {},
   "outputs": [
    {
     "data": {
      "image/png": "[encoded data removed]",
      "text/plain": [
       "<Figure size 1800x720 with 1 Axes>"
      ]
     },
     "metadata": {
      "needs_background": "light"
     },
     "output_type": "display_data"
    }
   ],
   "source": [
    "# Obtenemos una lista de todas las plataformas\n",
    "all_platforms = relevant_data['platform'].unique()\n",
    "\n",
    "# Agrupa por plataforma y año y calcula el total de ventas\n",
    "total_sales = relevant_data.groupby(['platform', 'year_of_release'])['total_sales'].sum().reset_index()\n",
    "\n",
    "# Creamos una lista de apoyo donde se todas las variables de ventas\n",
    "sales_variables = []\n",
    "\n",
    "# Creamos Data Frame de apoyo\n",
    "empty_data = {\n",
    "    'platform': [],\n",
    "    'year_of_release': [],\n",
    "    'total_sales': []\n",
    "}\n",
    "total_sales_platforms = pd.DataFrame(empty_data)\n",
    "\n",
    "# Creamos un Data Frame por cada una de las plataformas\n",
    "for platform in all_platforms:\n",
    "    platform_info = total_sales[total_sales['platform'] == platform]\n",
    "    total_sales_platforms = total_sales_platforms.merge(platform_info, how='outer', on=\"year_of_release\", suffixes=(None, f'_{platform.lower()}'))\n",
    "    sales_variables.append(f'total_sales_{platform.lower()}')\n",
    "\n",
    "# Hacemos la gráfica de barras\n",
    "total_sales_platforms.plot(\n",
    "    x = \"year_of_release\",\n",
    "    y = sales_variables,\n",
    "    kind = 'bar',\n",
    "    title = \"Ventas totales por plataforma\",\n",
    "    xlabel = \"Año\",\n",
    "    ylabel = \"Ventas totales\",\n",
    "    figsize = [25, 10]\n",
    ")\n",
    "\n",
    "# Especificamos las leyendas de planes\n",
    "plt.legend(all_platforms)\n",
    "plt.show()"
   ]
  },
  {
   "cell_type": "markdown",
   "metadata": {},
   "source": [
    "Para el 2016 las plataformas líderes en ventas eran PS4, Xbox One y Nintendo 3DS, respectivamente. Además, cabe destacar que se observa una aparente reducción en las ventas para todas las con forme nos acercamos al año 2016. \n",
    "\n",
    "No obstante, si se tuviera que elegir plataformas potencialmente rentables, estas podrían ser PS4 y Xbox One, pues para el año 2016 pudieron tener una caída en ventas, pero esta podría no afectar las ventas del año 2017."
   ]
  },
  {
   "cell_type": "markdown",
   "metadata": {},
   "source": [
    "### Diagrama de caja de ventas globales <a id='global_sales'></a>"
   ]
  },
  {
   "cell_type": "code",
   "execution_count": 25,
   "metadata": {},
   "outputs": [
    {
     "name": "stderr",
     "output_type": "stream",
     "text": [
      "/opt/conda/lib/python3.9/site-packages/seaborn/_decorators.py:36: FutureWarning: Pass the following variable as a keyword arg: x. From version 0.12, the only valid positional argument will be `data`, and passing other arguments without an explicit keyword will result in an error or misinterpretation.\n",
      "  warnings.warn(\n"
     ]
    },
    {
     "data": {
      "image/png": "[encoded data removed]",
      "text/plain": [
       "<Figure size 1080x432 with 1 Axes>"
      ]
     },
     "metadata": {
      "needs_background": "light"
     },
     "output_type": "display_data"
    },
    {
     "data": {
      "text/plain": [
       "count    520.000000\n",
       "mean       0.498077\n",
       "std        1.430876\n",
       "min        0.010000\n",
       "25%        0.050000\n",
       "50%        0.120000\n",
       "75%        0.330000\n",
       "max       14.600000\n",
       "Name: total_sales, dtype: float64"
      ]
     },
     "metadata": {},
     "output_type": "display_data"
    },
    {
     "name": "stderr",
     "output_type": "stream",
     "text": [
      "/opt/conda/lib/python3.9/site-packages/seaborn/_decorators.py:36: FutureWarning: Pass the following variable as a keyword arg: x. From version 0.12, the only valid positional argument will be `data`, and passing other arguments without an explicit keyword will result in an error or misinterpretation.\n",
      "  warnings.warn(\n"
     ]
    },
    {
     "data": {
      "image/png": "[encoded data removed]",
      "text/plain": [
       "<Figure size 1080x432 with 1 Axes>"
      ]
     },
     "metadata": {
      "needs_background": "light"
     },
     "output_type": "display_data"
    },
    {
     "data": {
      "text/plain": [
       "count    2151.000000\n",
       "mean        0.374765\n",
       "std         1.426451\n",
       "min         0.010000\n",
       "25%         0.050000\n",
       "50%         0.110000\n",
       "75%         0.270000\n",
       "max        29.800000\n",
       "Name: total_sales, dtype: float64"
      ]
     },
     "metadata": {},
     "output_type": "display_data"
    },
    {
     "name": "stderr",
     "output_type": "stream",
     "text": [
      "/opt/conda/lib/python3.9/site-packages/seaborn/_decorators.py:36: FutureWarning: Pass the following variable as a keyword arg: x. From version 0.12, the only valid positional argument will be `data`, and passing other arguments without an explicit keyword will result in an error or misinterpretation.\n",
      "  warnings.warn(\n"
     ]
    },
    {
     "data": {
      "image/png": "[encoded data removed]",
      "text/plain": [
       "<Figure size 1080x432 with 1 Axes>"
      ]
     },
     "metadata": {
      "needs_background": "light"
     },
     "output_type": "display_data"
    },
    {
     "data": {
      "text/plain": [
       "count    974.000000\n",
       "mean       0.266448\n",
       "std        0.675577\n",
       "min        0.010000\n",
       "25%        0.020000\n",
       "50%        0.050000\n",
       "75%        0.170000\n",
       "max        8.010000\n",
       "Name: total_sales, dtype: float64"
      ]
     },
     "metadata": {},
     "output_type": "display_data"
    },
    {
     "name": "stderr",
     "output_type": "stream",
     "text": [
      "/opt/conda/lib/python3.9/site-packages/seaborn/_decorators.py:36: FutureWarning: Pass the following variable as a keyword arg: x. From version 0.12, the only valid positional argument will be `data`, and passing other arguments without an explicit keyword will result in an error or misinterpretation.\n",
      "  warnings.warn(\n"
     ]
    },
    {
     "data": {
      "image/png": "[encoded data removed]",
      "text/plain": [
       "<Figure size 1080x432 with 1 Axes>"
      ]
     },
     "metadata": {
      "needs_background": "light"
     },
     "output_type": "display_data"
    },
    {
     "data": {
      "text/plain": [
       "count    2161.000000\n",
       "mean        0.581106\n",
       "std         1.137927\n",
       "min         0.000000\n",
       "25%         0.080000\n",
       "50%         0.230000\n",
       "75%         0.560000\n",
       "max        20.810000\n",
       "Name: total_sales, dtype: float64"
      ]
     },
     "metadata": {},
     "output_type": "display_data"
    },
    {
     "name": "stderr",
     "output_type": "stream",
     "text": [
      "/opt/conda/lib/python3.9/site-packages/seaborn/_decorators.py:36: FutureWarning: Pass the following variable as a keyword arg: x. From version 0.12, the only valid positional argument will be `data`, and passing other arguments without an explicit keyword will result in an error or misinterpretation.\n",
      "  warnings.warn(\n"
     ]
    },
    {
     "data": {
      "image/png": "[encoded data removed]",
      "text/plain": [
       "<Figure size 1080x432 with 1 Axes>"
      ]
     },
     "metadata": {
      "needs_background": "light"
     },
     "output_type": "display_data"
    },
    {
     "data": {
      "text/plain": [
       "count    1331.000000\n",
       "mean        0.705973\n",
       "std         1.391749\n",
       "min         0.000000\n",
       "25%         0.110000\n",
       "50%         0.270000\n",
       "75%         0.750000\n",
       "max        21.050000\n",
       "Name: total_sales, dtype: float64"
      ]
     },
     "metadata": {},
     "output_type": "display_data"
    },
    {
     "name": "stderr",
     "output_type": "stream",
     "text": [
      "/opt/conda/lib/python3.9/site-packages/seaborn/_decorators.py:36: FutureWarning: Pass the following variable as a keyword arg: x. From version 0.12, the only valid positional argument will be `data`, and passing other arguments without an explicit keyword will result in an error or misinterpretation.\n",
      "  warnings.warn(\n"
     ]
    },
    {
     "data": {
      "image/png": "[encoded data removed]",
      "text/plain": [
       "<Figure size 1080x432 with 1 Axes>"
      ]
     },
     "metadata": {
      "needs_background": "light"
     },
     "output_type": "display_data"
    },
    {
     "data": {
      "text/plain": [
       "count    392.000000\n",
       "mean       0.801378\n",
       "std        1.609456\n",
       "min        0.010000\n",
       "25%        0.060000\n",
       "50%        0.200000\n",
       "75%        0.730000\n",
       "max       14.630000\n",
       "Name: total_sales, dtype: float64"
      ]
     },
     "metadata": {},
     "output_type": "display_data"
    },
    {
     "name": "stderr",
     "output_type": "stream",
     "text": [
      "/opt/conda/lib/python3.9/site-packages/seaborn/_decorators.py:36: FutureWarning: Pass the following variable as a keyword arg: x. From version 0.12, the only valid positional argument will be `data`, and passing other arguments without an explicit keyword will result in an error or misinterpretation.\n",
      "  warnings.warn(\n"
     ]
    },
    {
     "data": {
      "image/png": "[encoded data removed]",
      "text/plain": [
       "<Figure size 1080x432 with 1 Axes>"
      ]
     },
     "metadata": {
      "needs_background": "light"
     },
     "output_type": "display_data"
    },
    {
     "data": {
      "text/plain": [
       "count    1209.000000\n",
       "mean        0.243218\n",
       "std         0.520210\n",
       "min         0.010000\n",
       "25%         0.030000\n",
       "50%         0.090000\n",
       "75%         0.230000\n",
       "max         7.680000\n",
       "Name: total_sales, dtype: float64"
      ]
     },
     "metadata": {},
     "output_type": "display_data"
    },
    {
     "name": "stderr",
     "output_type": "stream",
     "text": [
      "/opt/conda/lib/python3.9/site-packages/seaborn/_decorators.py:36: FutureWarning: Pass the following variable as a keyword arg: x. From version 0.12, the only valid positional argument will be `data`, and passing other arguments without an explicit keyword will result in an error or misinterpretation.\n",
      "  warnings.warn(\n"
     ]
    },
    {
     "data": {
      "image/png": "[encoded data removed]",
      "text/plain": [
       "<Figure size 1080x432 with 1 Axes>"
      ]
     },
     "metadata": {
      "needs_background": "light"
     },
     "output_type": "display_data"
    },
    {
     "data": {
      "text/plain": [
       "count    430.000000\n",
       "mean       0.125744\n",
       "std        0.212193\n",
       "min        0.010000\n",
       "25%        0.020000\n",
       "50%        0.055000\n",
       "75%        0.130000\n",
       "max        1.960000\n",
       "Name: total_sales, dtype: float64"
      ]
     },
     "metadata": {},
     "output_type": "display_data"
    },
    {
     "name": "stderr",
     "output_type": "stream",
     "text": [
      "/opt/conda/lib/python3.9/site-packages/seaborn/_decorators.py:36: FutureWarning: Pass the following variable as a keyword arg: x. From version 0.12, the only valid positional argument will be `data`, and passing other arguments without an explicit keyword will result in an error or misinterpretation.\n",
      "  warnings.warn(\n"
     ]
    },
    {
     "data": {
      "image/png": "[encoded data removed]",
      "text/plain": [
       "<Figure size 1080x432 with 1 Axes>"
      ]
     },
     "metadata": {
      "needs_background": "light"
     },
     "output_type": "display_data"
    },
    {
     "data": {
      "text/plain": [
       "count    1320.000000\n",
       "mean        0.687508\n",
       "std         3.126609\n",
       "min         0.010000\n",
       "25%         0.080000\n",
       "50%         0.190000\n",
       "75%         0.482500\n",
       "max        82.540000\n",
       "Name: total_sales, dtype: float64"
      ]
     },
     "metadata": {},
     "output_type": "display_data"
    },
    {
     "name": "stderr",
     "output_type": "stream",
     "text": [
      "/opt/conda/lib/python3.9/site-packages/seaborn/_decorators.py:36: FutureWarning: Pass the following variable as a keyword arg: x. From version 0.12, the only valid positional argument will be `data`, and passing other arguments without an explicit keyword will result in an error or misinterpretation.\n",
      "  warnings.warn(\n"
     ]
    },
    {
     "data": {
      "image/png": "[encoded data removed]",
      "text/plain": [
       "<Figure size 1080x432 with 1 Axes>"
      ]
     },
     "metadata": {
      "needs_background": "light"
     },
     "output_type": "display_data"
    },
    {
     "data": {
      "text/plain": [
       "count    147.000000\n",
       "mean       0.559116\n",
       "std        1.058836\n",
       "min        0.010000\n",
       "25%        0.080000\n",
       "50%        0.220000\n",
       "75%        0.525000\n",
       "max        7.090000\n",
       "Name: total_sales, dtype: float64"
      ]
     },
     "metadata": {},
     "output_type": "display_data"
    },
    {
     "name": "stderr",
     "output_type": "stream",
     "text": [
      "/opt/conda/lib/python3.9/site-packages/seaborn/_decorators.py:36: FutureWarning: Pass the following variable as a keyword arg: x. From version 0.12, the only valid positional argument will be `data`, and passing other arguments without an explicit keyword will result in an error or misinterpretation.\n",
      "  warnings.warn(\n"
     ]
    },
    {
     "data": {
      "image/png": "[encoded data removed]",
      "text/plain": [
       "<Figure size 1080x432 with 1 Axes>"
      ]
     },
     "metadata": {
      "needs_background": "light"
     },
     "output_type": "display_data"
    },
    {
     "data": {
      "text/plain": [
       "count    1262.000000\n",
       "mean        0.769746\n",
       "std         1.615674\n",
       "min         0.010000\n",
       "25%         0.110000\n",
       "50%         0.280000\n",
       "75%         0.757500\n",
       "max        21.820000\n",
       "Name: total_sales, dtype: float64"
      ]
     },
     "metadata": {},
     "output_type": "display_data"
    },
    {
     "name": "stderr",
     "output_type": "stream",
     "text": [
      "/opt/conda/lib/python3.9/site-packages/seaborn/_decorators.py:36: FutureWarning: Pass the following variable as a keyword arg: x. From version 0.12, the only valid positional argument will be `data`, and passing other arguments without an explicit keyword will result in an error or misinterpretation.\n",
      "  warnings.warn(\n"
     ]
    },
    {
     "data": {
      "image/png": "[encoded data removed]",
      "text/plain": [
       "<Figure size 1080x432 with 1 Axes>"
      ]
     },
     "metadata": {
      "needs_background": "light"
     },
     "output_type": "display_data"
    },
    {
     "data": {
      "text/plain": [
       "count    247.000000\n",
       "mean       0.645020\n",
       "std        1.036139\n",
       "min        0.010000\n",
       "25%        0.060000\n",
       "50%        0.220000\n",
       "75%        0.685000\n",
       "max        7.390000\n",
       "Name: total_sales, dtype: float64"
      ]
     },
     "metadata": {},
     "output_type": "display_data"
    }
   ],
   "source": [
    "# Obtenemos Data Frame de las ventas globales\n",
    "global_sales = data[['platform', 'total_sales']]\n",
    "\n",
    "# Ordenamos por orden alfabético las plataformas\n",
    "all_platforms.sort()\n",
    "\n",
    "# Iteramos por todas las plataformas estudiadas\n",
    "for platform in all_platforms:\n",
    "    # Obtenemos los datos para la plataforma\n",
    "    box_data = global_sales[global_sales['platform'] == platform]\n",
    "    \n",
    "    # Graficamos diagrama de caja\n",
    "    plt.figure(figsize = (15, 6))\n",
    "    sns.boxplot(box_data['total_sales'])\n",
    "    plt.title(f'Diagrama de caja de ventas globales de {platform}')\n",
    "    plt.xlabel(\"Ventas totales (millones USD)\")\n",
    "    plt.xlim(-1, 15)\n",
    "    plt.show()\n",
    "\n",
    "    # Imprimimos estadística descriptiva\n",
    "    display(box_data['total_sales'].describe())"
   ]
  },
  {
   "cell_type": "markdown",
   "metadata": {},
   "source": [
    "A simple vista, parece ser que sí hay diferencias significativas entre las plataformas que registraron mayores ventas a las que tuvieron las menores. Tomando por ejemplo el PSV, el 75% de sus ventas representan poco menos del 50% de las ventas del PS3.\n",
    "\n",
    "Asimismo, observamos en todos los diagramas una gran dispersión de los datos, por lo que el promedio de las ventas difiere en gran cantidad de la mediana de los datos. Por lo mismo, se considera que una mejor medida de tendencia central será la mediana."
   ]
  },
  {
   "cell_type": "markdown",
   "metadata": {},
   "source": [
    "### Correlación entre reseñas y ventas <a id='corr_reviews_sales'></a>"
   ]
  },
  {
   "cell_type": "code",
   "execution_count": 26,
   "metadata": {},
   "outputs": [
    {
     "data": {
      "text/html": [
       "<div>\n",
       "<style scoped>\n",
       "    .dataframe tbody tr th:only-of-type {\n",
       "        vertical-align: middle;\n",
       "    }\n",
       "\n",
       "    .dataframe tbody tr th {\n",
       "        vertical-align: top;\n",
       "    }\n",
       "\n",
       "    .dataframe thead th {\n",
       "        text-align: right;\n",
       "    }\n",
       "</style>\n",
       "<table border=\"1\" class=\"dataframe\">\n",
       "  <thead>\n",
       "    <tr style=\"text-align: right;\">\n",
       "      <th></th>\n",
       "      <th>name</th>\n",
       "      <th>platform</th>\n",
       "      <th>total_sales</th>\n",
       "      <th>critic_score</th>\n",
       "      <th>user_score</th>\n",
       "    </tr>\n",
       "  </thead>\n",
       "  <tbody>\n",
       "    <tr>\n",
       "      <th>31</th>\n",
       "      <td>Call of Duty: Black Ops 3</td>\n",
       "      <td>PS4</td>\n",
       "      <td>14.63</td>\n",
       "      <td>NaN</td>\n",
       "      <td>NaN</td>\n",
       "    </tr>\n",
       "    <tr>\n",
       "      <th>42</th>\n",
       "      <td>Grand Theft Auto V</td>\n",
       "      <td>PS4</td>\n",
       "      <td>12.62</td>\n",
       "      <td>97.0</td>\n",
       "      <td>8.3</td>\n",
       "    </tr>\n",
       "    <tr>\n",
       "      <th>77</th>\n",
       "      <td>FIFA 16</td>\n",
       "      <td>PS4</td>\n",
       "      <td>8.58</td>\n",
       "      <td>82.0</td>\n",
       "      <td>4.3</td>\n",
       "    </tr>\n",
       "    <tr>\n",
       "      <th>87</th>\n",
       "      <td>Star Wars Battlefront (2015)</td>\n",
       "      <td>PS4</td>\n",
       "      <td>7.98</td>\n",
       "      <td>NaN</td>\n",
       "      <td>NaN</td>\n",
       "    </tr>\n",
       "    <tr>\n",
       "      <th>92</th>\n",
       "      <td>Call of Duty: Advanced Warfare</td>\n",
       "      <td>PS4</td>\n",
       "      <td>7.66</td>\n",
       "      <td>83.0</td>\n",
       "      <td>5.7</td>\n",
       "    </tr>\n",
       "  </tbody>\n",
       "</table>\n",
       "</div>"
      ],
      "text/plain": [
       "                              name platform  total_sales  critic_score  \\\n",
       "31       Call of Duty: Black Ops 3      PS4        14.63           NaN   \n",
       "42              Grand Theft Auto V      PS4        12.62          97.0   \n",
       "77                         FIFA 16      PS4         8.58          82.0   \n",
       "87    Star Wars Battlefront (2015)      PS4         7.98           NaN   \n",
       "92  Call of Duty: Advanced Warfare      PS4         7.66          83.0   \n",
       "\n",
       "    user_score  \n",
       "31         NaN  \n",
       "42         8.3  \n",
       "77         4.3  \n",
       "87         NaN  \n",
       "92         5.7  "
      ]
     },
     "metadata": {},
     "output_type": "display_data"
    }
   ],
   "source": [
    "# Obtenemos Data Frame con los datos necesarios\n",
    "cor_data = relevant_data[relevant_data['platform'] == 'PS4'][['name', 'platform', 'total_sales', 'critic_score', 'user_score']]\n",
    "\n",
    "display(cor_data.head())"
   ]
  },
  {
   "cell_type": "code",
   "execution_count": 27,
   "metadata": {},
   "outputs": [
    {
     "data": {
      "image/png": "[encoded data removed]",
      "text/plain": [
       "<Figure size 720x432 with 1 Axes>"
      ]
     },
     "metadata": {
      "needs_background": "light"
     },
     "output_type": "display_data"
    },
    {
     "name": "stdout",
     "output_type": "stream",
     "text": [
      "Coeficiente de correlación: 0.40656790206178095\n"
     ]
    }
   ],
   "source": [
    "# Gráfico de dispersión de reseñas de críticos\n",
    "cor_data.plot(\n",
    "    x = \"critic_score\",\n",
    "    y = \"total_sales\",\n",
    "    kind = \"scatter\",\n",
    "    title = \"Ventas totales de videojuegos para plataforma PS4\",\n",
    "    figsize = [10, 6],\n",
    "    xlabel = \"Puntaje de críticos (máximo 100)\", \n",
    "    ylabel = \"Ventas totales (millones de USD)\"\n",
    ")\n",
    "\n",
    "plt.show()\n",
    "\n",
    "# Imprimimos el coeficiente de correlación\n",
    "cor_critic_score = cor_data['critic_score'].corr(cor_data['total_sales'])\n",
    "print(f'Coeficiente de correlación: {cor_critic_score}')"
   ]
  },
  {
   "cell_type": "code",
   "execution_count": 28,
   "metadata": {},
   "outputs": [
    {
     "data": {
      "image/png": "[encoded data removed]",
      "text/plain": [
       "<Figure size 720x432 with 1 Axes>"
      ]
     },
     "metadata": {
      "needs_background": "light"
     },
     "output_type": "display_data"
    },
    {
     "name": "stdout",
     "output_type": "stream",
     "text": [
      "Coeficiente de correlación: -0.031957110204556424\n"
     ]
    }
   ],
   "source": [
    "# Gráfico de dispersión de reseñas de usuarios\n",
    "cor_data.plot(\n",
    "    x = \"user_score\",\n",
    "    y = \"total_sales\",\n",
    "    kind = \"scatter\",\n",
    "    title = \"Ventas totales de videojuegos para plataforma PS4\",\n",
    "    figsize = [10, 6],\n",
    "    xlabel = \"Puntaje de usuarios (máximo 10)\", \n",
    "    ylabel = \"Ventas totales (millones de USD)\"\n",
    ")\n",
    "\n",
    "plt.show()\n",
    "\n",
    "# Imprimimos el coeficiente de correlación\n",
    "cor_user_score = cor_data['user_score'].corr(cor_data['total_sales'])\n",
    "print(f'Coeficiente de correlación: {cor_user_score}')"
   ]
  },
  {
   "cell_type": "markdown",
   "metadata": {},
   "source": [
    "Lo que nos muestran estos datos es que hay una correlación positiva mediana entre la puntuación de los críticos y las ventas de videojuegos. Esto podría significar que los usuarios toman en cuenta parcialmente las puntuaciones de los críticos para comprar o no un videojuego. \n",
    "\n",
    "Mientras que observamos una correlación casi nula entre la puntuación de los usuarios y las ventas de videojuegos. Esto significaría que los usuarios no consideran la puntuación de otros usuarios para comprar videojuegos."
   ]
  },
  {
   "cell_type": "markdown",
   "metadata": {},
   "source": [
    "### Comparación de ventas de los mismos juegos en otras plataformas <a id='comparison_sales_games'></a>"
   ]
  },
  {
   "cell_type": "markdown",
   "metadata": {},
   "source": [
    "Dado que son muchos videojuegos, tomaremos una muestra de 6 videojuegos para analizar."
   ]
  },
  {
   "cell_type": "code",
   "execution_count": 29,
   "metadata": {},
   "outputs": [],
   "source": [
    "# Obtenemos muestra de 4 videojuegos\n",
    "\n",
    "# Creamos lista con los nombres de los videojuegos\n",
    "games = [\"The LEGO Movie Videogame\", \"Grand Theft Auto V\", \"The Elder Scrolls V: Skyrim\", \"Call of Duty: Ghosts\"]"
   ]
  },
  {
   "cell_type": "code",
   "execution_count": 30,
   "metadata": {
    "scrolled": false
   },
   "outputs": [
    {
     "data": {
      "text/html": [
       "<div>\n",
       "<style scoped>\n",
       "    .dataframe tbody tr th:only-of-type {\n",
       "        vertical-align: middle;\n",
       "    }\n",
       "\n",
       "    .dataframe tbody tr th {\n",
       "        vertical-align: top;\n",
       "    }\n",
       "\n",
       "    .dataframe thead th {\n",
       "        text-align: right;\n",
       "    }\n",
       "</style>\n",
       "<table border=\"1\" class=\"dataframe\">\n",
       "  <thead>\n",
       "    <tr style=\"text-align: right;\">\n",
       "      <th></th>\n",
       "      <th>name</th>\n",
       "      <th>platform</th>\n",
       "      <th>year_of_release</th>\n",
       "      <th>genre</th>\n",
       "      <th>na_sales</th>\n",
       "      <th>eu_sales</th>\n",
       "      <th>jp_sales</th>\n",
       "      <th>other_sales</th>\n",
       "      <th>critic_score</th>\n",
       "      <th>user_score</th>\n",
       "      <th>rating</th>\n",
       "      <th>total_sales</th>\n",
       "    </tr>\n",
       "  </thead>\n",
       "  <tbody>\n",
       "    <tr>\n",
       "      <th>0</th>\n",
       "      <td>Grand Theft Auto V</td>\n",
       "      <td>PS3</td>\n",
       "      <td>2013.0</td>\n",
       "      <td>Action</td>\n",
       "      <td>7.02</td>\n",
       "      <td>9.09</td>\n",
       "      <td>0.98</td>\n",
       "      <td>3.96</td>\n",
       "      <td>97.0</td>\n",
       "      <td>8.2</td>\n",
       "      <td>M</td>\n",
       "      <td>21.05</td>\n",
       "    </tr>\n",
       "    <tr>\n",
       "      <th>1</th>\n",
       "      <td>Grand Theft Auto V</td>\n",
       "      <td>X360</td>\n",
       "      <td>2013.0</td>\n",
       "      <td>Action</td>\n",
       "      <td>9.66</td>\n",
       "      <td>5.14</td>\n",
       "      <td>0.06</td>\n",
       "      <td>1.41</td>\n",
       "      <td>97.0</td>\n",
       "      <td>8.1</td>\n",
       "      <td>M</td>\n",
       "      <td>16.27</td>\n",
       "    </tr>\n",
       "    <tr>\n",
       "      <th>2</th>\n",
       "      <td>Grand Theft Auto V</td>\n",
       "      <td>PS4</td>\n",
       "      <td>2014.0</td>\n",
       "      <td>Action</td>\n",
       "      <td>3.96</td>\n",
       "      <td>6.31</td>\n",
       "      <td>0.38</td>\n",
       "      <td>1.97</td>\n",
       "      <td>97.0</td>\n",
       "      <td>8.3</td>\n",
       "      <td>M</td>\n",
       "      <td>12.62</td>\n",
       "    </tr>\n",
       "    <tr>\n",
       "      <th>3</th>\n",
       "      <td>Call of Duty: Ghosts</td>\n",
       "      <td>X360</td>\n",
       "      <td>2013.0</td>\n",
       "      <td>Shooter</td>\n",
       "      <td>6.73</td>\n",
       "      <td>2.56</td>\n",
       "      <td>0.04</td>\n",
       "      <td>0.91</td>\n",
       "      <td>73.0</td>\n",
       "      <td>2.6</td>\n",
       "      <td>M</td>\n",
       "      <td>10.24</td>\n",
       "    </tr>\n",
       "    <tr>\n",
       "      <th>4</th>\n",
       "      <td>Call of Duty: Ghosts</td>\n",
       "      <td>PS3</td>\n",
       "      <td>2013.0</td>\n",
       "      <td>Shooter</td>\n",
       "      <td>4.10</td>\n",
       "      <td>3.63</td>\n",
       "      <td>0.38</td>\n",
       "      <td>1.25</td>\n",
       "      <td>71.0</td>\n",
       "      <td>2.6</td>\n",
       "      <td>M</td>\n",
       "      <td>9.36</td>\n",
       "    </tr>\n",
       "  </tbody>\n",
       "</table>\n",
       "</div>"
      ],
      "text/plain": [
       "                   name platform  year_of_release    genre  na_sales  \\\n",
       "0    Grand Theft Auto V      PS3           2013.0   Action      7.02   \n",
       "1    Grand Theft Auto V     X360           2013.0   Action      9.66   \n",
       "2    Grand Theft Auto V      PS4           2014.0   Action      3.96   \n",
       "3  Call of Duty: Ghosts     X360           2013.0  Shooter      6.73   \n",
       "4  Call of Duty: Ghosts      PS3           2013.0  Shooter      4.10   \n",
       "\n",
       "   eu_sales  jp_sales  other_sales  critic_score  user_score rating  \\\n",
       "0      9.09      0.98         3.96          97.0         8.2      M   \n",
       "1      5.14      0.06         1.41          97.0         8.1      M   \n",
       "2      6.31      0.38         1.97          97.0         8.3      M   \n",
       "3      2.56      0.04         0.91          73.0         2.6      M   \n",
       "4      3.63      0.38         1.25          71.0         2.6      M   \n",
       "\n",
       "   total_sales  \n",
       "0        21.05  \n",
       "1        16.27  \n",
       "2        12.62  \n",
       "3        10.24  \n",
       "4         9.36  "
      ]
     },
     "metadata": {},
     "output_type": "display_data"
    }
   ],
   "source": [
    "# Obtenemos DataFrame con los datos de los videojuegos a analizar\n",
    "games_data = relevant_data[relevant_data['name'].isin(games)].reset_index(drop=True)\n",
    "\n",
    "display(games_data.head())"
   ]
  },
  {
   "cell_type": "code",
   "execution_count": 31,
   "metadata": {
    "scrolled": true
   },
   "outputs": [
    {
     "data": {
      "image/png": "[encoded data removed]",
      "text/plain": [
       "<Figure size 1080x360 with 1 Axes>"
      ]
     },
     "metadata": {
      "needs_background": "light"
     },
     "output_type": "display_data"
    }
   ],
   "source": [
    "# Creamos una lista de apoyo donde se todas las variables de ventas\n",
    "sales_games_var = []\n",
    "\n",
    "# Creamos Data Frame de apoyo\n",
    "empty_data = {\n",
    "    'platform': [],\n",
    "    'year_of_release': [],\n",
    "    'total_sales': []\n",
    "}\n",
    "games_platforms_sales = pd.DataFrame(empty_data)\n",
    "\n",
    "# Creamos un Data Frame por cada uno de los videojuegos\n",
    "for game in games:\n",
    "    game_info = games_data[games_data['name'] == game]\n",
    "    games_platforms_sales = games_platforms_sales.merge(game_info, how='outer', on=\"platform\", suffixes=(None, f'_{game.replace(\" \",\"\").lower()}'))\n",
    "    sales_games_var.append(f'total_sales_{game.replace(\" \",\"\").lower()}')\n",
    "    \n",
    "# Hacemos la gráfica de barras\n",
    "games_platforms_sales.plot(\n",
    "    x = \"platform\",\n",
    "    y = sales_games_var,\n",
    "    kind = 'bar',\n",
    "    title = \"Ventas de videojuegos en diferentes plataformas\",\n",
    "    xlabel = \"Plataformas\",\n",
    "    ylabel = \"Ventas totales (millones de USD)\",\n",
    "    figsize = [15, 5]\n",
    ")\n",
    "\n",
    "# Especificamos las leyendas de planes\n",
    "plt.legend(games)\n",
    "plt.show()"
   ]
  },
  {
   "cell_type": "markdown",
   "metadata": {},
   "source": [
    "Podemos observar que hay plataformas donde cierto juego tiene mayores ventas; tal como es el caso de Grand Theft Auto V que registró mayores ventas en la plataforma PS3. Asimismo, nos encontramos también con videojuegos donde la recepción fue similar en todas las plataformas, tal como es el caso del juego The Lego Movie Videogame.\n",
    "\n",
    "Esto nos podría indicar que la plataforma también tiene influencia sobre ciertos videojuegos, o bien, que algunos videojuegos son preferidos por los usuarios de ciertas plataformas."
   ]
  },
  {
   "cell_type": "markdown",
   "metadata": {},
   "source": [
    "### Distribución general de juegos por género <a id='genre_games'></a>"
   ]
  },
  {
   "cell_type": "code",
   "execution_count": 32,
   "metadata": {},
   "outputs": [
    {
     "data": {
      "image/png": "[encoded data removed]",
      "text/plain": [
       "<Figure size 720x432 with 1 Axes>"
      ]
     },
     "metadata": {
      "needs_background": "light"
     },
     "output_type": "display_data"
    }
   ],
   "source": [
    "# Obtenemos una lista de todas las plataformas\n",
    "all_platforms = relevant_data['platform'].unique()\n",
    "\n",
    "# Agrupa por género y obtiene las ventas totales\n",
    "genre_data = relevant_data.groupby('genre')['total_sales'].sum().reset_index()\n",
    "\n",
    "# Hacemos la gráfica de barras\n",
    "genre_data.plot(\n",
    "    x = \"genre\",\n",
    "    y = \"total_sales\",\n",
    "    kind = \"bar\",\n",
    "    title = \"Ventas totales por género\",\n",
    "    xlabel = \"Género\",\n",
    "    ylabel = \"Ventas totales (millones de USD)\",\n",
    "    figsize = [10, 6]\n",
    ")\n",
    "\n",
    "# Especificamos las leyendas de planes\n",
    "plt.legend([])\n",
    "plt.show()"
   ]
  },
  {
   "cell_type": "markdown",
   "metadata": {},
   "source": [
    "Podemos observar que los géneros con mayores ventas son aquellos que pertenecen al género de acción, disparos, juegos de rol y deportes. Mientras que los géneros con menores ventas son los de rompecabezas y estrategia. \n",
    "\n",
    "Por lo que podríamos decir que los usuarios prefieren juegos donde puedan tener aventuras y explorar diferentes mundos, pero no aquellos en los que tengan que pensar de manera intensa."
   ]
  },
  {
   "cell_type": "markdown",
   "metadata": {},
   "source": [
    "## 4. Perfil de usuario para cada región <a id='user_profiles'></a>"
   ]
  },
  {
   "cell_type": "markdown",
   "metadata": {},
   "source": [
    "### Perfil de Norteamérica <a id='na_profile'></a>"
   ]
  },
  {
   "cell_type": "markdown",
   "metadata": {},
   "source": [
    "#### Plataformas principales <a id='na_platforms'></a>"
   ]
  },
  {
   "cell_type": "code",
   "execution_count": 33,
   "metadata": {},
   "outputs": [
    {
     "data": {
      "text/plain": [
       "<matplotlib.legend.Legend at 0x7faea80f6f70>"
      ]
     },
     "execution_count": 33,
     "metadata": {},
     "output_type": "execute_result"
    },
    {
     "data": {
      "image/png": "[encoded data removed]",
      "text/plain": [
       "<Figure size 720x432 with 1 Axes>"
      ]
     },
     "metadata": {
      "needs_background": "light"
     },
     "output_type": "display_data"
    }
   ],
   "source": [
    "# Obtenemos DataFrame con los datos necesarios\n",
    "na_sales_per_platform = relevant_data.groupby('platform')[['na_sales', 'total_sales']].sum().reset_index().sort_values(by='na_sales', ascending=False)\n",
    "\n",
    "# Hacemos gráfica de barras\n",
    "na_sales_per_platform.plot(x = 'platform',\n",
    "                           y = 'na_sales',\n",
    "                           kind = 'bar',\n",
    "                           title = 'Ventas totales por plataforma en Norteamérica',\n",
    "                           xlabel = \"Plataforma\",\n",
    "                           ylabel = \"Ventas totales (millones de USD)\",\n",
    "                           figsize = [10, 6])\n",
    "\n",
    "# Especificamos las leyendas\n",
    "plt.legend([])"
   ]
  },
  {
   "cell_type": "markdown",
   "metadata": {},
   "source": [
    "Observamos que las cinco plataformas principales en Norteamérica son Xbox 360, PlayStation 3, PlayStation 4, Xbox One y Nintendo 3DS."
   ]
  },
  {
   "cell_type": "markdown",
   "metadata": {},
   "source": [
    "#### Cuotas de mercado <a id='na_market_share'></a>"
   ]
  },
  {
   "cell_type": "code",
   "execution_count": 34,
   "metadata": {},
   "outputs": [
    {
     "data": {
      "text/html": [
       "<div>\n",
       "<style scoped>\n",
       "    .dataframe tbody tr th:only-of-type {\n",
       "        vertical-align: middle;\n",
       "    }\n",
       "\n",
       "    .dataframe tbody tr th {\n",
       "        vertical-align: top;\n",
       "    }\n",
       "\n",
       "    .dataframe thead th {\n",
       "        text-align: right;\n",
       "    }\n",
       "</style>\n",
       "<table border=\"1\" class=\"dataframe\">\n",
       "  <thead>\n",
       "    <tr style=\"text-align: right;\">\n",
       "      <th></th>\n",
       "      <th>platform</th>\n",
       "      <th>na_sales</th>\n",
       "      <th>total_sales</th>\n",
       "      <th>na_market_share</th>\n",
       "    </tr>\n",
       "  </thead>\n",
       "  <tbody>\n",
       "    <tr>\n",
       "      <th>0</th>\n",
       "      <td>X360</td>\n",
       "      <td>226.80</td>\n",
       "      <td>380.38</td>\n",
       "      <td>0.596246</td>\n",
       "    </tr>\n",
       "    <tr>\n",
       "      <th>1</th>\n",
       "      <td>PS3</td>\n",
       "      <td>168.26</td>\n",
       "      <td>445.57</td>\n",
       "      <td>0.377629</td>\n",
       "    </tr>\n",
       "    <tr>\n",
       "      <th>2</th>\n",
       "      <td>PS4</td>\n",
       "      <td>108.74</td>\n",
       "      <td>314.14</td>\n",
       "      <td>0.346151</td>\n",
       "    </tr>\n",
       "    <tr>\n",
       "      <th>3</th>\n",
       "      <td>XOne</td>\n",
       "      <td>93.12</td>\n",
       "      <td>159.32</td>\n",
       "      <td>0.584484</td>\n",
       "    </tr>\n",
       "    <tr>\n",
       "      <th>4</th>\n",
       "      <td>3DS</td>\n",
       "      <td>82.65</td>\n",
       "      <td>257.81</td>\n",
       "      <td>0.320585</td>\n",
       "    </tr>\n",
       "  </tbody>\n",
       "</table>\n",
       "</div>"
      ],
      "text/plain": [
       "  platform  na_sales  total_sales  na_market_share\n",
       "0     X360    226.80       380.38         0.596246\n",
       "1      PS3    168.26       445.57         0.377629\n",
       "2      PS4    108.74       314.14         0.346151\n",
       "3     XOne     93.12       159.32         0.584484\n",
       "4      3DS     82.65       257.81         0.320585"
      ]
     },
     "metadata": {},
     "output_type": "display_data"
    }
   ],
   "source": [
    "# Obtenemos los datos de las principales plataformas\n",
    "na_market_data = na_sales_per_platform.head(5).reset_index(drop=True)\n",
    "\n",
    "# Obtenemos el market share\n",
    "na_market_data['na_market_share'] = na_market_data['na_sales'] / na_market_data['total_sales']\n",
    "\n",
    "# Imprimimos cambios\n",
    "display(na_market_data)"
   ]
  },
  {
   "cell_type": "markdown",
   "metadata": {},
   "source": [
    "Podemos observar que Norteamérica es responsable de casi el 60% de las ventas totales de los videojuegos para Xbox 360, así como de casi el 59% de ventas para la plataforma Xbox One. Por lo que podemos pensar que los usuarios de Norteamérica prefieren las plataformas de Xbox. "
   ]
  },
  {
   "cell_type": "markdown",
   "metadata": {},
   "source": [
    "#### Géneros principales <a id='na_genres'></a>"
   ]
  },
  {
   "cell_type": "code",
   "execution_count": 35,
   "metadata": {},
   "outputs": [
    {
     "data": {
      "text/plain": [
       "<matplotlib.legend.Legend at 0x7faea8241940>"
      ]
     },
     "execution_count": 35,
     "metadata": {},
     "output_type": "execute_result"
    },
    {
     "data": {
      "image/png": "[encoded data removed]",
      "text/plain": [
       "<Figure size 720x432 with 1 Axes>"
      ]
     },
     "metadata": {
      "needs_background": "light"
     },
     "output_type": "display_data"
    }
   ],
   "source": [
    "# Obtenemos DataFrame con los datos necesarios\n",
    "na_sales_per_genres = relevant_data.groupby('genre')['na_sales'].sum().reset_index().sort_values(by='na_sales', ascending=False)\n",
    "\n",
    "# Hacemos gráfica de barras\n",
    "na_sales_per_genres.plot(x = 'genre',\n",
    "                         y = 'na_sales',\n",
    "                         kind = 'bar',\n",
    "                         title = 'Ventas totales por plataforma en Norteamérica',\n",
    "                         xlabel = \"Género\",\n",
    "                         ylabel = \"Ventas totales (millones de USD)\",\n",
    "                         figsize = [10, 6])\n",
    "\n",
    "# Especificamos las leyendas\n",
    "plt.legend([])"
   ]
  },
  {
   "cell_type": "markdown",
   "metadata": {},
   "source": [
    "Los principales géneros para los usuarios de Norteamérica son acción, disparos, deportes, juegos de rol y otros."
   ]
  },
  {
   "cell_type": "markdown",
   "metadata": {},
   "source": [
    "#### Efecto de las clasificaciones ESRB en las ventas regionales <a id='na_esrb'></a>"
   ]
  },
  {
   "cell_type": "code",
   "execution_count": 36,
   "metadata": {},
   "outputs": [
    {
     "name": "stderr",
     "output_type": "stream",
     "text": [
      "/opt/conda/lib/python3.9/site-packages/seaborn/_decorators.py:36: FutureWarning: Pass the following variable as a keyword arg: x. From version 0.12, the only valid positional argument will be `data`, and passing other arguments without an explicit keyword will result in an error or misinterpretation.\n",
      "  warnings.warn(\n"
     ]
    },
    {
     "data": {
      "image/png": "[encoded data removed]",
      "text/plain": [
       "<Figure size 1080x432 with 1 Axes>"
      ]
     },
     "metadata": {
      "needs_background": "light"
     },
     "output_type": "display_data"
    },
    {
     "name": "stderr",
     "output_type": "stream",
     "text": [
      "/opt/conda/lib/python3.9/site-packages/seaborn/_decorators.py:36: FutureWarning: Pass the following variable as a keyword arg: x. From version 0.12, the only valid positional argument will be `data`, and passing other arguments without an explicit keyword will result in an error or misinterpretation.\n",
      "  warnings.warn(\n"
     ]
    },
    {
     "data": {
      "image/png": "[encoded data removed]",
      "text/plain": [
       "<Figure size 1080x432 with 1 Axes>"
      ]
     },
     "metadata": {
      "needs_background": "light"
     },
     "output_type": "display_data"
    },
    {
     "name": "stderr",
     "output_type": "stream",
     "text": [
      "/opt/conda/lib/python3.9/site-packages/seaborn/_decorators.py:36: FutureWarning: Pass the following variable as a keyword arg: x. From version 0.12, the only valid positional argument will be `data`, and passing other arguments without an explicit keyword will result in an error or misinterpretation.\n",
      "  warnings.warn(\n"
     ]
    },
    {
     "data": {
      "image/png": "[encoded data removed]",
      "text/plain": [
       "<Figure size 1080x432 with 1 Axes>"
      ]
     },
     "metadata": {
      "needs_background": "light"
     },
     "output_type": "display_data"
    },
    {
     "name": "stderr",
     "output_type": "stream",
     "text": [
      "/opt/conda/lib/python3.9/site-packages/seaborn/_decorators.py:36: FutureWarning: Pass the following variable as a keyword arg: x. From version 0.12, the only valid positional argument will be `data`, and passing other arguments without an explicit keyword will result in an error or misinterpretation.\n",
      "  warnings.warn(\n"
     ]
    },
    {
     "data": {
      "image/png": "[encoded data removed]",
      "text/plain": [
       "<Figure size 1080x432 with 1 Axes>"
      ]
     },
     "metadata": {
      "needs_background": "light"
     },
     "output_type": "display_data"
    },
    {
     "name": "stderr",
     "output_type": "stream",
     "text": [
      "/opt/conda/lib/python3.9/site-packages/seaborn/_decorators.py:36: FutureWarning: Pass the following variable as a keyword arg: x. From version 0.12, the only valid positional argument will be `data`, and passing other arguments without an explicit keyword will result in an error or misinterpretation.\n",
      "  warnings.warn(\n"
     ]
    },
    {
     "data": {
      "image/png": "[encoded data removed]",
      "text/plain": [
       "<Figure size 1080x432 with 1 Axes>"
      ]
     },
     "metadata": {
      "needs_background": "light"
     },
     "output_type": "display_data"
    },
    {
     "name": "stderr",
     "output_type": "stream",
     "text": [
      "/opt/conda/lib/python3.9/site-packages/seaborn/_decorators.py:36: FutureWarning: Pass the following variable as a keyword arg: x. From version 0.12, the only valid positional argument will be `data`, and passing other arguments without an explicit keyword will result in an error or misinterpretation.\n",
      "  warnings.warn(\n"
     ]
    },
    {
     "data": {
      "image/png": "[encoded data removed]",
      "text/plain": [
       "<Figure size 1080x432 with 1 Axes>"
      ]
     },
     "metadata": {
      "needs_background": "light"
     },
     "output_type": "display_data"
    }
   ],
   "source": [
    "# Creamos data frame con datos necesarios\n",
    "esrb_data = relevant_data[['rating','na_sales', 'eu_sales', 'jp_sales']].dropna().reset_index(drop=True)\n",
    "\n",
    "# Obtenemos lista de los posibles ratings\n",
    "ratings = esrb_data['rating'].unique()\n",
    "\n",
    "for rating in ratings:\n",
    "    # Obtenemos los datos del rating\n",
    "    data_rating = esrb_data[esrb_data['rating'] == rating]\n",
    "    \n",
    "    # Graficamos diagrama de caja\n",
    "    plt.figure(figsize = (15, 6))\n",
    "    sns.boxplot(data_rating['na_sales'])\n",
    "    plt.title(f'Diagrama de caja de ventas de videojuegos en Norteamérica con clasificación {rating}')\n",
    "    plt.xlabel(\"Ventas totales (millones USD)\")\n",
    "    plt.xlim(0, 3)\n",
    "    plt.show()"
   ]
  },
  {
   "cell_type": "markdown",
   "metadata": {},
   "source": [
    "Observamos que los juegos con clasificación M tienden a tener mayores ventas que el resto de clasificaciones. De ahí le sigue la clasificación E10+ y la clasificación E."
   ]
  },
  {
   "cell_type": "markdown",
   "metadata": {},
   "source": [
    "### Perfil de Europa <a id='eu_profile'></a>"
   ]
  },
  {
   "cell_type": "markdown",
   "metadata": {},
   "source": [
    "#### Plataformas principales <a id='eu_platforms'></a>"
   ]
  },
  {
   "cell_type": "code",
   "execution_count": 37,
   "metadata": {},
   "outputs": [
    {
     "data": {
      "text/plain": [
       "<matplotlib.legend.Legend at 0x7faea7ef95e0>"
      ]
     },
     "execution_count": 37,
     "metadata": {},
     "output_type": "execute_result"
    },
    {
     "data": {
      "image/png": "[encoded data removed]",
      "text/plain": [
       "<Figure size 720x432 with 1 Axes>"
      ]
     },
     "metadata": {
      "needs_background": "light"
     },
     "output_type": "display_data"
    }
   ],
   "source": [
    "# Plataformas principales\n",
    "\n",
    "# Obtenemos DataFrame con los datos necesarios\n",
    "eu_sales_per_platform = relevant_data.groupby('platform')[['eu_sales', 'total_sales']].sum().reset_index().sort_values(by='eu_sales', ascending=False)\n",
    "\n",
    "# Hacemos gráfica de barras\n",
    "eu_sales_per_platform.plot(x = 'platform',\n",
    "                           y = 'eu_sales',\n",
    "                           kind = 'bar',\n",
    "                           title = 'Ventas totales por plataforma en Europa',\n",
    "                           xlabel = \"Plataforma\",\n",
    "                           ylabel = \"Ventas totales (millones de USD)\",\n",
    "                           figsize = [10, 6])\n",
    "\n",
    "# Especificamos las leyendas\n",
    "plt.legend([])"
   ]
  },
  {
   "cell_type": "markdown",
   "metadata": {},
   "source": [
    "Observamos que las cinco plataformas principales en Europa son PlayStation 3, PlayStation 4, Xbox 360, Nintendo 3DS, y PC. "
   ]
  },
  {
   "cell_type": "markdown",
   "metadata": {},
   "source": [
    "#### Cuotas de mercado <a id='eu_market_share'></a>"
   ]
  },
  {
   "cell_type": "code",
   "execution_count": 38,
   "metadata": {},
   "outputs": [
    {
     "data": {
      "text/html": [
       "<div>\n",
       "<style scoped>\n",
       "    .dataframe tbody tr th:only-of-type {\n",
       "        vertical-align: middle;\n",
       "    }\n",
       "\n",
       "    .dataframe tbody tr th {\n",
       "        vertical-align: top;\n",
       "    }\n",
       "\n",
       "    .dataframe thead th {\n",
       "        text-align: right;\n",
       "    }\n",
       "</style>\n",
       "<table border=\"1\" class=\"dataframe\">\n",
       "  <thead>\n",
       "    <tr style=\"text-align: right;\">\n",
       "      <th></th>\n",
       "      <th>platform</th>\n",
       "      <th>eu_sales</th>\n",
       "      <th>total_sales</th>\n",
       "      <th>eu_market_share</th>\n",
       "    </tr>\n",
       "  </thead>\n",
       "  <tbody>\n",
       "    <tr>\n",
       "      <th>0</th>\n",
       "      <td>PS3</td>\n",
       "      <td>163.10</td>\n",
       "      <td>445.57</td>\n",
       "      <td>0.366048</td>\n",
       "    </tr>\n",
       "    <tr>\n",
       "      <th>1</th>\n",
       "      <td>PS4</td>\n",
       "      <td>141.09</td>\n",
       "      <td>314.14</td>\n",
       "      <td>0.449131</td>\n",
       "    </tr>\n",
       "    <tr>\n",
       "      <th>2</th>\n",
       "      <td>X360</td>\n",
       "      <td>117.10</td>\n",
       "      <td>380.38</td>\n",
       "      <td>0.307850</td>\n",
       "    </tr>\n",
       "    <tr>\n",
       "      <th>3</th>\n",
       "      <td>3DS</td>\n",
       "      <td>61.27</td>\n",
       "      <td>257.81</td>\n",
       "      <td>0.237656</td>\n",
       "    </tr>\n",
       "    <tr>\n",
       "      <th>4</th>\n",
       "      <td>PC</td>\n",
       "      <td>56.70</td>\n",
       "      <td>97.68</td>\n",
       "      <td>0.580467</td>\n",
       "    </tr>\n",
       "  </tbody>\n",
       "</table>\n",
       "</div>"
      ],
      "text/plain": [
       "  platform  eu_sales  total_sales  eu_market_share\n",
       "0      PS3    163.10       445.57         0.366048\n",
       "1      PS4    141.09       314.14         0.449131\n",
       "2     X360    117.10       380.38         0.307850\n",
       "3      3DS     61.27       257.81         0.237656\n",
       "4       PC     56.70        97.68         0.580467"
      ]
     },
     "metadata": {},
     "output_type": "display_data"
    }
   ],
   "source": [
    "# Obtenemos los datos de las principales plataformas\n",
    "eu_market_data = eu_sales_per_platform.head(5).reset_index(drop=True)\n",
    "\n",
    "# Obtenemos el market share\n",
    "eu_market_data['eu_market_share'] = eu_market_data['eu_sales'] / eu_market_data['total_sales']\n",
    "\n",
    "# Imprimimos cambios\n",
    "display(eu_market_data)"
   ]
  },
  {
   "cell_type": "markdown",
   "metadata": {},
   "source": [
    "Podemos observar que los usuarios de Europa prefieren jugar en PC, pues son responsables de casi el 60% de las ventas en dicha plataforma. La segunda plataforma de elección por parte de estos usuarios en el PlayStation 4, pues ellos son responsables de casi el 45% de las ventas en esta plataforma."
   ]
  },
  {
   "cell_type": "markdown",
   "metadata": {},
   "source": [
    "#### Géneros principales <a id='eu_genres'></a>"
   ]
  },
  {
   "cell_type": "code",
   "execution_count": 39,
   "metadata": {},
   "outputs": [
    {
     "data": {
      "text/plain": [
       "<matplotlib.legend.Legend at 0x7faea8268b80>"
      ]
     },
     "execution_count": 39,
     "metadata": {},
     "output_type": "execute_result"
    },
    {
     "data": {
      "image/png": "[encoded data removed]",
      "text/plain": [
       "<Figure size 720x432 with 1 Axes>"
      ]
     },
     "metadata": {
      "needs_background": "light"
     },
     "output_type": "display_data"
    }
   ],
   "source": [
    "# Obtenemos DataFrame con los datos necesarios\n",
    "eu_sales_per_genres = relevant_data.groupby('genre')['eu_sales'].sum().reset_index().sort_values(by='eu_sales', ascending=False)\n",
    "\n",
    "# Hacemos gráfica de barras\n",
    "eu_sales_per_genres.plot(x = 'genre',\n",
    "                         y = 'eu_sales',\n",
    "                         kind = 'bar',\n",
    "                         title = 'Ventas totales por plataforma en Europa',\n",
    "                         xlabel = \"Género\",\n",
    "                         ylabel = \"Ventas totales (millones de USD)\",\n",
    "                         figsize = [10, 6])\n",
    "\n",
    "# Especificamos las leyendas\n",
    "plt.legend([])"
   ]
  },
  {
   "cell_type": "markdown",
   "metadata": {},
   "source": [
    "Podemos ver que los principales géneros que prefieren los usuarios de Europa son de acción, disparos, deportes, juegos de rol y carreras."
   ]
  },
  {
   "cell_type": "markdown",
   "metadata": {},
   "source": [
    "#### Efecto de las clasificaciones ESRB en las ventas regionales <a id='eu_esrb'></a>"
   ]
  },
  {
   "cell_type": "code",
   "execution_count": 40,
   "metadata": {},
   "outputs": [
    {
     "name": "stderr",
     "output_type": "stream",
     "text": [
      "/opt/conda/lib/python3.9/site-packages/seaborn/_decorators.py:36: FutureWarning: Pass the following variable as a keyword arg: x. From version 0.12, the only valid positional argument will be `data`, and passing other arguments without an explicit keyword will result in an error or misinterpretation.\n",
      "  warnings.warn(\n"
     ]
    },
    {
     "data": {
      "image/png": "[encoded data removed]",
      "text/plain": [
       "<Figure size 1080x432 with 1 Axes>"
      ]
     },
     "metadata": {
      "needs_background": "light"
     },
     "output_type": "display_data"
    },
    {
     "name": "stderr",
     "output_type": "stream",
     "text": [
      "/opt/conda/lib/python3.9/site-packages/seaborn/_decorators.py:36: FutureWarning: Pass the following variable as a keyword arg: x. From version 0.12, the only valid positional argument will be `data`, and passing other arguments without an explicit keyword will result in an error or misinterpretation.\n",
      "  warnings.warn(\n"
     ]
    },
    {
     "data": {
      "image/png": "[encoded data removed]",
      "text/plain": [
       "<Figure size 1080x432 with 1 Axes>"
      ]
     },
     "metadata": {
      "needs_background": "light"
     },
     "output_type": "display_data"
    },
    {
     "name": "stderr",
     "output_type": "stream",
     "text": [
      "/opt/conda/lib/python3.9/site-packages/seaborn/_decorators.py:36: FutureWarning: Pass the following variable as a keyword arg: x. From version 0.12, the only valid positional argument will be `data`, and passing other arguments without an explicit keyword will result in an error or misinterpretation.\n",
      "  warnings.warn(\n"
     ]
    },
    {
     "data": {
      "image/png": "[encoded data removed]",
      "text/plain": [
       "<Figure size 1080x432 with 1 Axes>"
      ]
     },
     "metadata": {
      "needs_background": "light"
     },
     "output_type": "display_data"
    },
    {
     "name": "stderr",
     "output_type": "stream",
     "text": [
      "/opt/conda/lib/python3.9/site-packages/seaborn/_decorators.py:36: FutureWarning: Pass the following variable as a keyword arg: x. From version 0.12, the only valid positional argument will be `data`, and passing other arguments without an explicit keyword will result in an error or misinterpretation.\n",
      "  warnings.warn(\n"
     ]
    },
    {
     "data": {
      "image/png": "[encoded data removed]",
      "text/plain": [
       "<Figure size 1080x432 with 1 Axes>"
      ]
     },
     "metadata": {
      "needs_background": "light"
     },
     "output_type": "display_data"
    },
    {
     "name": "stderr",
     "output_type": "stream",
     "text": [
      "/opt/conda/lib/python3.9/site-packages/seaborn/_decorators.py:36: FutureWarning: Pass the following variable as a keyword arg: x. From version 0.12, the only valid positional argument will be `data`, and passing other arguments without an explicit keyword will result in an error or misinterpretation.\n",
      "  warnings.warn(\n"
     ]
    },
    {
     "data": {
      "image/png": "[encoded data removed]",
      "text/plain": [
       "<Figure size 1080x432 with 1 Axes>"
      ]
     },
     "metadata": {
      "needs_background": "light"
     },
     "output_type": "display_data"
    },
    {
     "name": "stderr",
     "output_type": "stream",
     "text": [
      "/opt/conda/lib/python3.9/site-packages/seaborn/_decorators.py:36: FutureWarning: Pass the following variable as a keyword arg: x. From version 0.12, the only valid positional argument will be `data`, and passing other arguments without an explicit keyword will result in an error or misinterpretation.\n",
      "  warnings.warn(\n"
     ]
    },
    {
     "data": {
      "image/png": "[encoded data removed]",
      "text/plain": [
       "<Figure size 1080x432 with 1 Axes>"
      ]
     },
     "metadata": {
      "needs_background": "light"
     },
     "output_type": "display_data"
    }
   ],
   "source": [
    "# Obtenemos diagramas de caja de ventas de todos los ratings\n",
    "for rating in ratings:\n",
    "    # Obtenemos los datos del rating\n",
    "    data_rating = esrb_data[esrb_data['rating'] == rating]\n",
    "    \n",
    "    # Graficamos diagrama de caja\n",
    "    plt.figure(figsize = (15, 6))\n",
    "    sns.boxplot(data_rating['eu_sales'])\n",
    "    plt.title(f'Diagrama de caja de ventas de videojuegos en Europa con clasificación {rating}')\n",
    "    plt.xlabel(\"Ventas totales (millones USD)\")\n",
    "    plt.xlim(0, 3)\n",
    "    plt.show()"
   ]
  },
  {
   "cell_type": "markdown",
   "metadata": {},
   "source": [
    "Observamos que las ventas de videojuegos con clasificación M tienden a ser mayores que el resto. De ahí le siguen los juegos con clasificación E10+, E y T."
   ]
  },
  {
   "cell_type": "markdown",
   "metadata": {},
   "source": [
    "### Perfil de Japón <a id='jp_profile'></a>"
   ]
  },
  {
   "cell_type": "markdown",
   "metadata": {},
   "source": [
    "#### Plataformas principales <a id='jp_platforms'></a>"
   ]
  },
  {
   "cell_type": "code",
   "execution_count": 41,
   "metadata": {},
   "outputs": [
    {
     "data": {
      "text/plain": [
       "<matplotlib.legend.Legend at 0x7faea8251310>"
      ]
     },
     "execution_count": 41,
     "metadata": {},
     "output_type": "execute_result"
    },
    {
     "data": {
      "image/png": "[encoded data removed]",
      "text/plain": [
       "<Figure size 720x432 with 1 Axes>"
      ]
     },
     "metadata": {
      "needs_background": "light"
     },
     "output_type": "display_data"
    }
   ],
   "source": [
    "# Plataformas principales\n",
    "\n",
    "# Obtenemos DataFrame con los datos necesarios\n",
    "jp_sales_per_platform = relevant_data.groupby('platform')[['jp_sales', 'total_sales']].sum().reset_index().sort_values(by='jp_sales', ascending=False)\n",
    "\n",
    "# Hacemos gráfica de barras\n",
    "jp_sales_per_platform.plot(x = 'platform',\n",
    "                           y = 'jp_sales',\n",
    "                           kind = 'bar',\n",
    "                           title = 'Ventas totales por plataforma en Japón',\n",
    "                           xlabel = \"Plataforma\",\n",
    "                           ylabel = \"Ventas totales (millones de USD)\",\n",
    "                           figsize = [10, 6])\n",
    "\n",
    "# Especificamos las leyendas\n",
    "plt.legend([])"
   ]
  },
  {
   "cell_type": "markdown",
   "metadata": {},
   "source": [
    "Observamos que las cinco plataformas principales en Japón son Nintendo 3DS, PlayStation 3, PSP, PlayStation Vita, y PlayStation 4. "
   ]
  },
  {
   "cell_type": "markdown",
   "metadata": {},
   "source": [
    "#### Cuotas de mercado <a id='jp_market_share'></a>"
   ]
  },
  {
   "cell_type": "code",
   "execution_count": 42,
   "metadata": {},
   "outputs": [
    {
     "data": {
      "text/html": [
       "<div>\n",
       "<style scoped>\n",
       "    .dataframe tbody tr th:only-of-type {\n",
       "        vertical-align: middle;\n",
       "    }\n",
       "\n",
       "    .dataframe tbody tr th {\n",
       "        vertical-align: top;\n",
       "    }\n",
       "\n",
       "    .dataframe thead th {\n",
       "        text-align: right;\n",
       "    }\n",
       "</style>\n",
       "<table border=\"1\" class=\"dataframe\">\n",
       "  <thead>\n",
       "    <tr style=\"text-align: right;\">\n",
       "      <th></th>\n",
       "      <th>platform</th>\n",
       "      <th>jp_sales</th>\n",
       "      <th>total_sales</th>\n",
       "      <th>jp_market_share</th>\n",
       "    </tr>\n",
       "  </thead>\n",
       "  <tbody>\n",
       "    <tr>\n",
       "      <th>0</th>\n",
       "      <td>3DS</td>\n",
       "      <td>100.62</td>\n",
       "      <td>257.81</td>\n",
       "      <td>0.390287</td>\n",
       "    </tr>\n",
       "    <tr>\n",
       "      <th>1</th>\n",
       "      <td>PS3</td>\n",
       "      <td>49.39</td>\n",
       "      <td>445.57</td>\n",
       "      <td>0.110847</td>\n",
       "    </tr>\n",
       "    <tr>\n",
       "      <th>2</th>\n",
       "      <td>PSP</td>\n",
       "      <td>24.04</td>\n",
       "      <td>29.01</td>\n",
       "      <td>0.828680</td>\n",
       "    </tr>\n",
       "    <tr>\n",
       "      <th>3</th>\n",
       "      <td>PSV</td>\n",
       "      <td>21.84</td>\n",
       "      <td>53.81</td>\n",
       "      <td>0.405873</td>\n",
       "    </tr>\n",
       "    <tr>\n",
       "      <th>4</th>\n",
       "      <td>PS4</td>\n",
       "      <td>15.96</td>\n",
       "      <td>314.14</td>\n",
       "      <td>0.050805</td>\n",
       "    </tr>\n",
       "  </tbody>\n",
       "</table>\n",
       "</div>"
      ],
      "text/plain": [
       "  platform  jp_sales  total_sales  jp_market_share\n",
       "0      3DS    100.62       257.81         0.390287\n",
       "1      PS3     49.39       445.57         0.110847\n",
       "2      PSP     24.04        29.01         0.828680\n",
       "3      PSV     21.84        53.81         0.405873\n",
       "4      PS4     15.96       314.14         0.050805"
      ]
     },
     "metadata": {},
     "output_type": "display_data"
    }
   ],
   "source": [
    "# Obtenemos los datos de las principales plataformas\n",
    "jp_market_data = jp_sales_per_platform.head(5).reset_index(drop=True)\n",
    "\n",
    "# Obtenemos el market share\n",
    "jp_market_data['jp_market_share'] = jp_market_data['jp_sales'] / jp_market_data['total_sales']\n",
    "\n",
    "# Imprimimos cambios\n",
    "display(jp_market_data)"
   ]
  },
  {
   "cell_type": "markdown",
   "metadata": {},
   "source": [
    "Por su parte, observamos que la mayoría de los usuarios japoneses prefieren el PlayStation Portable (PSP), pues son responsables del 83% de las ventas de videojuegos para esta plataforma. De ahí, prefieren casi por igual jugar videojuegos en las plataformas de Nintendo 3DS y PlayStation Vita."
   ]
  },
  {
   "cell_type": "markdown",
   "metadata": {},
   "source": [
    "#### Géneros principales <a id='jp_genres'></a>"
   ]
  },
  {
   "cell_type": "code",
   "execution_count": 43,
   "metadata": {},
   "outputs": [
    {
     "data": {
      "text/plain": [
       "<matplotlib.legend.Legend at 0x7faea7d9dd30>"
      ]
     },
     "execution_count": 43,
     "metadata": {},
     "output_type": "execute_result"
    },
    {
     "data": {
      "image/png": "[encoded data removed]",
      "text/plain": [
       "<Figure size 720x432 with 1 Axes>"
      ]
     },
     "metadata": {
      "needs_background": "light"
     },
     "output_type": "display_data"
    }
   ],
   "source": [
    "# Obtenemos DataFrame con los datos necesarios\n",
    "jp_sales_per_genres = relevant_data.groupby('genre')['jp_sales'].sum().reset_index().sort_values(by='jp_sales', ascending=False)\n",
    "\n",
    "# Hacemos gráfica de barras\n",
    "jp_sales_per_genres.plot(x = 'genre',\n",
    "                         y = 'jp_sales',\n",
    "                         kind = 'bar',\n",
    "                         title = 'Ventas totales por plataforma en Japón',\n",
    "                         xlabel = \"Género\",\n",
    "                         ylabel = \"Ventas totales (millones de USD)\",\n",
    "                         figsize = [10, 6])\n",
    "\n",
    "# Especificamos las leyendas\n",
    "plt.legend([])"
   ]
  },
  {
   "cell_type": "markdown",
   "metadata": {},
   "source": [
    "Podemos observar que los usuarios de Japón prefieren en su mayoría los juegos de rol, seguido de los juegos de acción. De ahí sus preferencias son por Misc, peleas, y Platform."
   ]
  },
  {
   "cell_type": "markdown",
   "metadata": {},
   "source": [
    "#### Efecto de las clasificaciones ESRB en las ventas regionales <a id='jp_esrb'></a>"
   ]
  },
  {
   "cell_type": "code",
   "execution_count": 44,
   "metadata": {},
   "outputs": [
    {
     "name": "stderr",
     "output_type": "stream",
     "text": [
      "/opt/conda/lib/python3.9/site-packages/seaborn/_decorators.py:36: FutureWarning: Pass the following variable as a keyword arg: x. From version 0.12, the only valid positional argument will be `data`, and passing other arguments without an explicit keyword will result in an error or misinterpretation.\n",
      "  warnings.warn(\n"
     ]
    },
    {
     "data": {
      "image/png": "[encoded data removed]",
      "text/plain": [
       "<Figure size 1080x432 with 1 Axes>"
      ]
     },
     "metadata": {
      "needs_background": "light"
     },
     "output_type": "display_data"
    },
    {
     "data": {
      "text/plain": [
       "count    622.000000\n",
       "mean       0.042026\n",
       "std        0.100874\n",
       "min        0.000000\n",
       "25%        0.000000\n",
       "50%        0.000000\n",
       "75%        0.040000\n",
       "max        0.980000\n",
       "Name: jp_sales, dtype: float64"
      ]
     },
     "metadata": {},
     "output_type": "display_data"
    },
    {
     "name": "stderr",
     "output_type": "stream",
     "text": [
      "/opt/conda/lib/python3.9/site-packages/seaborn/_decorators.py:36: FutureWarning: Pass the following variable as a keyword arg: x. From version 0.12, the only valid positional argument will be `data`, and passing other arguments without an explicit keyword will result in an error or misinterpretation.\n",
      "  warnings.warn(\n"
     ]
    },
    {
     "data": {
      "image/png": "[encoded data removed]",
      "text/plain": [
       "<Figure size 1080x432 with 1 Axes>"
      ]
     },
     "metadata": {
      "needs_background": "light"
     },
     "output_type": "display_data"
    },
    {
     "data": {
      "text/plain": [
       "count    618.000000\n",
       "mean       0.059353\n",
       "std        0.283440\n",
       "min        0.000000\n",
       "25%        0.000000\n",
       "50%        0.000000\n",
       "75%        0.000000\n",
       "max        4.390000\n",
       "Name: jp_sales, dtype: float64"
      ]
     },
     "metadata": {},
     "output_type": "display_data"
    },
    {
     "name": "stderr",
     "output_type": "stream",
     "text": [
      "/opt/conda/lib/python3.9/site-packages/seaborn/_decorators.py:36: FutureWarning: Pass the following variable as a keyword arg: x. From version 0.12, the only valid positional argument will be `data`, and passing other arguments without an explicit keyword will result in an error or misinterpretation.\n",
      "  warnings.warn(\n"
     ]
    },
    {
     "data": {
      "image/png": "[encoded data removed]",
      "text/plain": [
       "<Figure size 1080x432 with 1 Axes>"
      ]
     },
     "metadata": {
      "needs_background": "light"
     },
     "output_type": "display_data"
    },
    {
     "data": {
      "text/plain": [
       "count    456.000000\n",
       "mean       0.024627\n",
       "std        0.102124\n",
       "min        0.000000\n",
       "25%        0.000000\n",
       "50%        0.000000\n",
       "75%        0.000000\n",
       "max        1.460000\n",
       "Name: jp_sales, dtype: float64"
      ]
     },
     "metadata": {},
     "output_type": "display_data"
    },
    {
     "name": "stderr",
     "output_type": "stream",
     "text": [
      "/opt/conda/lib/python3.9/site-packages/seaborn/_decorators.py:36: FutureWarning: Pass the following variable as a keyword arg: x. From version 0.12, the only valid positional argument will be `data`, and passing other arguments without an explicit keyword will result in an error or misinterpretation.\n",
      "  warnings.warn(\n"
     ]
    },
    {
     "data": {
      "image/png": "[encoded data removed]",
      "text/plain": [
       "<Figure size 1080x432 with 1 Axes>"
      ]
     },
     "metadata": {
      "needs_background": "light"
     },
     "output_type": "display_data"
    },
    {
     "data": {
      "text/plain": [
       "count    616.000000\n",
       "mean       0.054205\n",
       "std        0.146747\n",
       "min        0.000000\n",
       "25%        0.000000\n",
       "50%        0.000000\n",
       "75%        0.060000\n",
       "max        2.620000\n",
       "Name: jp_sales, dtype: float64"
      ]
     },
     "metadata": {},
     "output_type": "display_data"
    },
    {
     "name": "stderr",
     "output_type": "stream",
     "text": [
      "/opt/conda/lib/python3.9/site-packages/seaborn/_decorators.py:36: FutureWarning: Pass the following variable as a keyword arg: x. From version 0.12, the only valid positional argument will be `data`, and passing other arguments without an explicit keyword will result in an error or misinterpretation.\n",
      "  warnings.warn(\n"
     ]
    },
    {
     "data": {
      "image/png": "[encoded data removed]",
      "text/plain": [
       "<Figure size 1080x432 with 1 Axes>"
      ]
     },
     "metadata": {
      "needs_background": "light"
     },
     "output_type": "display_data"
    },
    {
     "data": {
      "text/plain": [
       "count    1.0\n",
       "mean     0.0\n",
       "std      NaN\n",
       "min      0.0\n",
       "25%      0.0\n",
       "50%      0.0\n",
       "75%      0.0\n",
       "max      0.0\n",
       "Name: jp_sales, dtype: float64"
      ]
     },
     "metadata": {},
     "output_type": "display_data"
    },
    {
     "name": "stderr",
     "output_type": "stream",
     "text": [
      "/opt/conda/lib/python3.9/site-packages/seaborn/_decorators.py:36: FutureWarning: Pass the following variable as a keyword arg: x. From version 0.12, the only valid positional argument will be `data`, and passing other arguments without an explicit keyword will result in an error or misinterpretation.\n",
      "  warnings.warn(\n"
     ]
    },
    {
     "data": {
      "image/png": "[encoded data removed]",
      "text/plain": [
       "<Figure size 1080x432 with 1 Axes>"
      ]
     },
     "metadata": {
      "needs_background": "light"
     },
     "output_type": "display_data"
    },
    {
     "data": {
      "text/plain": [
       "count    1.0\n",
       "mean     0.0\n",
       "std      NaN\n",
       "min      0.0\n",
       "25%      0.0\n",
       "50%      0.0\n",
       "75%      0.0\n",
       "max      0.0\n",
       "Name: jp_sales, dtype: float64"
      ]
     },
     "metadata": {},
     "output_type": "display_data"
    }
   ],
   "source": [
    "# Obtenemos diagramas de caja de ventas de todos los ratings\n",
    "for rating in ratings:\n",
    "    # Obtenemos los datos del rating\n",
    "    data_rating = esrb_data[esrb_data['rating'] == rating]\n",
    "    \n",
    "    # Graficamos diagrama de caja\n",
    "    plt.figure(figsize = (15, 6))\n",
    "    sns.boxplot(data_rating['jp_sales'])\n",
    "    plt.title(f'Diagrama de caja de ventas de videojuegos en Japón con clasificación {rating}')\n",
    "    plt.xlabel(\"Ventas totales (millones USD)\")\n",
    "    plt.xlim(0, 3)\n",
    "    plt.show()\n",
    "    \n",
    "    display(data_rating['jp_sales'].describe())"
   ]
  },
  {
   "cell_type": "markdown",
   "metadata": {},
   "source": [
    "Observamos que los usuarios de Japón tienen preferencia por los videojuegos con clasificación Teen, después de estos prefieren consumir los videojuegos con clasificación Mature. "
   ]
  },
  {
   "cell_type": "markdown",
   "metadata": {},
   "source": [
    "### Conclusiones <a id='user_profiles_conclusions'></a>"
   ]
  },
  {
   "cell_type": "markdown",
   "metadata": {},
   "source": [
    "#### Plataformas principales <a id='platforms_conclusions'></a>"
   ]
  },
  {
   "cell_type": "markdown",
   "metadata": {},
   "source": [
    "Pudimos observar que la plataforma PlayStation, sobre todo la 3 y 4, es preferida por los usuarios de las 3 regiones estudiadas. Después de estas se prefieren las plataformas de Nintendo 3DS y Xbox."
   ]
  },
  {
   "cell_type": "markdown",
   "metadata": {},
   "source": [
    "#### Cuotas de mercado <a id='market_share_conclusions'></a>"
   ]
  },
  {
   "cell_type": "code",
   "execution_count": 45,
   "metadata": {},
   "outputs": [
    {
     "data": {
      "text/html": [
       "<div>\n",
       "<style scoped>\n",
       "    .dataframe tbody tr th:only-of-type {\n",
       "        vertical-align: middle;\n",
       "    }\n",
       "\n",
       "    .dataframe tbody tr th {\n",
       "        vertical-align: top;\n",
       "    }\n",
       "\n",
       "    .dataframe thead th {\n",
       "        text-align: right;\n",
       "    }\n",
       "</style>\n",
       "<table border=\"1\" class=\"dataframe\">\n",
       "  <thead>\n",
       "    <tr style=\"text-align: right;\">\n",
       "      <th></th>\n",
       "      <th>platform</th>\n",
       "      <th>na_market_share</th>\n",
       "      <th>eu_market_share</th>\n",
       "      <th>jp_market_share</th>\n",
       "    </tr>\n",
       "  </thead>\n",
       "  <tbody>\n",
       "    <tr>\n",
       "      <th>0</th>\n",
       "      <td>X360</td>\n",
       "      <td>0.596246</td>\n",
       "      <td>0.307850</td>\n",
       "      <td>NaN</td>\n",
       "    </tr>\n",
       "    <tr>\n",
       "      <th>1</th>\n",
       "      <td>PS3</td>\n",
       "      <td>0.377629</td>\n",
       "      <td>0.366048</td>\n",
       "      <td>0.110847</td>\n",
       "    </tr>\n",
       "    <tr>\n",
       "      <th>2</th>\n",
       "      <td>PS4</td>\n",
       "      <td>0.346151</td>\n",
       "      <td>0.449131</td>\n",
       "      <td>0.050805</td>\n",
       "    </tr>\n",
       "    <tr>\n",
       "      <th>3</th>\n",
       "      <td>XOne</td>\n",
       "      <td>0.584484</td>\n",
       "      <td>NaN</td>\n",
       "      <td>NaN</td>\n",
       "    </tr>\n",
       "    <tr>\n",
       "      <th>4</th>\n",
       "      <td>3DS</td>\n",
       "      <td>0.320585</td>\n",
       "      <td>0.237656</td>\n",
       "      <td>0.390287</td>\n",
       "    </tr>\n",
       "    <tr>\n",
       "      <th>5</th>\n",
       "      <td>PC</td>\n",
       "      <td>NaN</td>\n",
       "      <td>0.580467</td>\n",
       "      <td>NaN</td>\n",
       "    </tr>\n",
       "    <tr>\n",
       "      <th>6</th>\n",
       "      <td>PSP</td>\n",
       "      <td>NaN</td>\n",
       "      <td>NaN</td>\n",
       "      <td>0.828680</td>\n",
       "    </tr>\n",
       "    <tr>\n",
       "      <th>7</th>\n",
       "      <td>PSV</td>\n",
       "      <td>NaN</td>\n",
       "      <td>NaN</td>\n",
       "      <td>0.405873</td>\n",
       "    </tr>\n",
       "  </tbody>\n",
       "</table>\n",
       "</div>"
      ],
      "text/plain": [
       "  platform  na_market_share  eu_market_share  jp_market_share\n",
       "0     X360         0.596246         0.307850              NaN\n",
       "1      PS3         0.377629         0.366048         0.110847\n",
       "2      PS4         0.346151         0.449131         0.050805\n",
       "3     XOne         0.584484              NaN              NaN\n",
       "4      3DS         0.320585         0.237656         0.390287\n",
       "5       PC              NaN         0.580467              NaN\n",
       "6      PSP              NaN              NaN         0.828680\n",
       "7      PSV              NaN              NaN         0.405873"
      ]
     },
     "metadata": {},
     "output_type": "display_data"
    }
   ],
   "source": [
    "market_shares = na_market_data[['platform', 'na_market_share']].merge(\n",
    "    eu_market_data[['platform', 'eu_market_share']], \n",
    "    how='outer',\n",
    "    on='platform',\n",
    "    suffixes=[None, None]\n",
    ")\n",
    "\n",
    "market_shares = market_shares.merge(\n",
    "    jp_market_data[['platform', 'jp_market_share']], \n",
    "    how='outer',\n",
    "    on='platform',\n",
    "    suffixes=[None, None]\n",
    ")\n",
    "\n",
    "display(market_shares)"
   ]
  },
  {
   "cell_type": "markdown",
   "metadata": {},
   "source": [
    "Observamos que para la plataforma:\n",
    "- Xbox 360: El mercado Norteamericano representa el 60% de las ventas de videojuegos, mientras que el mercado Europeo representa el 30%. Ambos representan el 90% de las ventas en esta plataforma.\n",
    "- PlayStation 3: Tanto el mercado Norteamericano como el Europeo tienen una cuota de mercado similar, siendo del 37-38%. Después les sigue el mercado Japonés con el 11% de cuota de mercado.\n",
    "- PlayStation 4: El mercado Europeo es quien tiene mayor cuota, siendo esta del 45%. De ahí le siguen el mercado Norteamericano con 35% y el Japonés con el 5%. Esto nos inidica que el resto de regiones tienen aproximandamente el 15% de cuota del mercado.\n",
    "- Nintendo 3DS: Para las tres regiones las cuotas de mercado son cercanas entre sí; para el mercado Japonés es del 39%, para el mercado Norteamericano es de 32% y para el Europeo es del 23%."
   ]
  },
  {
   "cell_type": "markdown",
   "metadata": {},
   "source": [
    "#### Géneros principales <a id='genres_conclusions'></a>"
   ]
  },
  {
   "cell_type": "markdown",
   "metadata": {},
   "source": [
    "Se observó que los gustos de los usuarios de Norteamérica y de Europa son muy similares, prefiriendo los juegos de acción, disparos, deportes y juegos de rol en el mismo orden. En cuanto a los gustos de los usuarios japoneses, coinciden con los otros en cuanto a la preferencia por juegos de rol y de acción; de ahí sus gustos difieren."
   ]
  },
  {
   "cell_type": "markdown",
   "metadata": {},
   "source": [
    "#### Efecto de las clasificaciones ESRB en ventas regionales <a id='esrb_conclusions'></a>"
   ]
  },
  {
   "cell_type": "markdown",
   "metadata": {},
   "source": [
    "En este caso observamos igualmente preferencias similares entre los usuarios Norteamericanos y Europeos, que tienden a comprar videojuegos con clasificación M, E10+ y E. Por su lado, Japón tiene un preferencia similar por los juegos con clasificación M, y comparte preferencia con Europa por los juegos con clasificación T. "
   ]
  },
  {
   "cell_type": "markdown",
   "metadata": {},
   "source": [
    "## 5. Pruebas de hipótesis <a id='hypothesis_testing'></a>"
   ]
  },
  {
   "cell_type": "markdown",
   "metadata": {},
   "source": [
    "### Las calificaciones promedio de los usuarios para las plataformas Xbox One y PC son las mismas <a id='scores_xone_pc'></a>"
   ]
  },
  {
   "cell_type": "markdown",
   "metadata": {},
   "source": [
    "Establecemos la hipótesis nula y alternativa, así como el nivel de significancia:\n",
    "- H0: Las calificaciones promedio de los usuarios para las plataformas Xbox One y PC son iguales.\n",
    "- H1: Las calificaciones promedio de los usuarios para las plataformas Xbox One y PC son diferentes.\n",
    "- Alpha: 0.05\n",
    "\n",
    "Como primer paso, debemos determinar si hay que considerar que las varianzas son iguales o diferentes. Para ello utilizamos el test de Levene, con un nivel de significancia del 5%."
   ]
  },
  {
   "cell_type": "code",
   "execution_count": null,
   "metadata": {},
   "outputs": [
    {
     "name": "stdout",
     "output_type": "stream",
     "text": [
      "Valor p: 0.019238606822499546\n",
      "Se rechaza la hipótesis nula. Las varianzas son diferentes.\n"
     ]
    }
   ],
   "source": [
    "# Obtenemos los datos de puntuación para Xbox One y PC\n",
    "xone_scores = relevant_data[relevant_data['platform'] == 'XOne']['user_score']\n",
    "pc_scores = relevant_data[relevant_data['platform'] == 'PC']['user_score']\n",
    "\n",
    "# Nivel crítico de significancia estadística\n",
    "alpha1 = 0.05\n",
    "\n",
    "# Realizamos el test de Levene\n",
    "results1 = levene(xone_scores, pc_scores, nan_policy='omit')\n",
    "\n",
    "# Imprimir el valor p\n",
    "print(\"Valor p:\", results1.pvalue)\n",
    "\n",
    "# Comparar el valor p con el nivel de significancia estadística\n",
    "if results1.pvalue > alpha1:\n",
    "    print(\"No se rechaza la hipótesis nula. Las varianzas son similares.\")\n",
    "else:\n",
    "    print(\"Se rechaza la hipótesis nula. Las varianzas son diferentes.\")"
   ]
  },
  {
   "cell_type": "markdown",
   "metadata": {},
   "source": [
    "Procedemos probar la hipótesis de que las medias de las dos poblaciones independientes son iguales, considerando que sus varianzas son diferentes."
   ]
  },
  {
   "cell_type": "code",
   "execution_count": null,
   "metadata": {},
   "outputs": [
    {
     "name": "stdout",
     "output_type": "stream",
     "text": [
      "valor p: 0.6130712247638477\n",
      "No podemos rechazar la hipótesis nula\n"
     ]
    }
   ],
   "source": [
    "# Nivel crítico de significancia estadística\n",
    "alpha2 = 0.05\n",
    "\n",
    "# Prueba la hipótesis de que las medias de las dos poblaciones independientes son iguales\n",
    "results2 = st.ttest_ind(xone_scores, pc_scores, equal_var = False, nan_policy='omit')\n",
    "\n",
    "# Imprime el valor p obtenido\n",
    "print('valor p:', results2.pvalue)\n",
    "\n",
    "# tu código: compara los valores p obtenidos con el nivel de significación estadística\n",
    "if (results2.pvalue < alpha2):\n",
    "    print(\"Rechazamos la hipótesis nula\")\n",
    "else:\n",
    "    print(\"No podemos rechazar la hipótesis nula\")"
   ]
  },
  {
   "cell_type": "markdown",
   "metadata": {},
   "source": [
    "La prueba de hipótesis nos dice que, al ser el valor p mayor que el valor de significancia establecido (5%), no podemos rechazar la hipótesis nula. Por lo tanto, las calificaciones promedio de los usuarios para las plataformas Xbox One y PC son iguales."
   ]
  },
  {
   "cell_type": "markdown",
   "metadata": {},
   "source": [
    "### Las calificaciones promedio de los usuarios para los géneros de Acción y Deportes son diferentes <a id='scores_action_sports'></a>"
   ]
  },
  {
   "cell_type": "markdown",
   "metadata": {},
   "source": [
    "Establecemos la hipótesis nula y alternativa, así como el nivel de significancia:\n",
    "- H0: Las calificaciones promedio de los usuarios para los géneros de Acción y Deportes son iguales.\n",
    "- H1: Las calificaciones promedio de los usuarios para los géneros de Acción y Deportes son diferentes.\n",
    "- Alpha: 0.05\n",
    "\n",
    "Como primer paso, debemos determinar si las varianzas son iguales o diferentes. Para ello utilizamos el test de Levene, con un nivel de significancia del 5%."
   ]
  },
  {
   "cell_type": "code",
   "execution_count": null,
   "metadata": {},
   "outputs": [
    {
     "name": "stdout",
     "output_type": "stream",
     "text": [
      "Valor p: 0.019238606822499546\n",
      "Se rechaza la hipótesis nula. Las varianzas son diferentes.\n"
     ]
    }
   ],
   "source": [
    "# Obtenemos los datos de puntuación para los géneros acción y deportes\n",
    "action_scores = relevant_data[relevant_data['genre'] == 'Action']['user_score']\n",
    "sports_scores = relevant_data[relevant_data['genre'] == 'Sports']['user_score']\n",
    "\n",
    "# Nivel crítico de significancia estadística\n",
    "alpha3 = 0.05\n",
    "\n",
    "# Realizamos el test de Levene\n",
    "results3 = levene(xone_scores, pc_scores, nan_policy='omit')\n",
    "\n",
    "# Imprimir el valor p\n",
    "print(\"Valor p:\", results3.pvalue)\n",
    "\n",
    "# Comparar el valor p con el nivel de significancia estadística\n",
    "if results3.pvalue > alpha3:\n",
    "    print(\"No se rechaza la hipótesis nula. Las varianzas son similares.\")\n",
    "else:\n",
    "    print(\"Se rechaza la hipótesis nula. Las varianzas son diferentes.\")"
   ]
  },
  {
   "cell_type": "markdown",
   "metadata": {},
   "source": [
    "Procedemos probar la hipótesis de que las medias de las dos poblaciones independientes son iguales, considerando que sus varianzas son diferentes."
   ]
  },
  {
   "cell_type": "code",
   "execution_count": null,
   "metadata": {},
   "outputs": [
    {
     "name": "stdout",
     "output_type": "stream",
     "text": [
      "valor p: 8.285648549432565e-19\n",
      "Rechazamos la hipótesis nula\n"
     ]
    }
   ],
   "source": [
    "# Nivel crítico de significancia estadística\n",
    "alpha4 = 0.05\n",
    "\n",
    "# Prueba la hipótesis de que las medias de las dos poblaciones independientes son iguales\n",
    "results4 = st.ttest_ind(action_scores, sports_scores, equal_var = False, nan_policy='omit')\n",
    "\n",
    "# Imprime el valor p obtenido\n",
    "print('valor p:', results4.pvalue)\n",
    "\n",
    "# tu código: compara los valores p obtenidos con el nivel de significación estadística\n",
    "if (results4.pvalue < alpha4):\n",
    "    print(\"Rechazamos la hipótesis nula\")\n",
    "else:\n",
    "    print(\"No podemos rechazar la hipótesis nula\")"
   ]
  },
  {
   "cell_type": "markdown",
   "metadata": {},
   "source": [
    "Dado que el valor p es menor que el valor p de 5%, se rechaza la hipótesis nula. Por lo tanto, las calificaciones promedio de los usuarios para los géneros de Acción y Deportes son diferentes."
   ]
  },
  {
   "cell_type": "markdown",
   "metadata": {},
   "source": [
    "## 6. Conclusión general <a id='general_conclusion'></a>"
   ]
  },
  {
   "cell_type": "markdown",
   "metadata": {},
   "source": [
    "Las plataformas con mayores ventas a lo largo de la historia son PS2, Xbox 360, PS3, Wii, DS y PS. Además, observamos que cuando una plataforma alcanza su máximo en ventas y comienza a declinar, tarda aproximadamente un año en que una nueva plataforma la reemplace. Las antiguas desaparecen entre 4 a 5 años después de que las nuevas comienzan a tener ventas.\n",
    "\n",
    "En 2016, las plataformas líderes en ventas eran PS4, Xbox One y Nintendo 3DS, y se percibe una aparente reducción en las ventas hacia ese año. Sin embargo, PS4 y Xbox One podrían ser potencialmente rentables, a pesar de la caída en 2016.\n",
    "\n",
    "También se observó una correlación positiva mediana entre las puntuaciones de los críticos y las ventas de videojuegos, sugiriendo que los usuarios consideran parcialmente estas puntuaciones. Mientras que la correlación entre las puntuaciones de usuarios y las ventas es casi nula, indicando que los usuarios no se basan en las puntuaciones de otros para comprar videojuegos.\n",
    "\n",
    "Por otra parte, las ventas de ciertos juegos varían según la plataforma, sugiriendo que la plataforma puede influir en las preferencias de los usuarios. Además, los géneros de acción, disparos, juegos de rol y deportes tienen mayores ventas, mientras que los de rompecabezas y estrategia tienen menores ventas."
   ]
  },
  {
   "cell_type": "markdown",
   "metadata": {},
   "source": [
    "Por otra parte, se descubrió que Norteamérica y Europa representan el 90% de las ventas para la plataforma Xbox 360. Además, que ambas regiones tienen una cuota similar para la PlayStation 3 (37-38%) y para la PlayStation 4 el mercado Europeo lidera la cuota con un 45%, seguido del mercado Norteamericano con un 35%. Mientras que el mercado Japonés tiene una alta preferencia por el PSP, representando el 83% de las ventas. Además, el Nintendo 3DS muestra cuotas de mercado cercanas entre Japón (39%), Norteamérica (32%) y Europa (23%).\n",
    "\n",
    "Además, los gustos de los usuarios de Norteamérica y Europa son muy similares, dando prioridad a los juegos de acción, disparos, deportes y juegos de rol. Los usuarios japoneses también comparten preferencia por juegos de rol y acción, aunque difieren en otros gustos.\n",
    "\n",
    "En cuanto a las clasificaciones de juegos, Norteamérica y Europa comparten preferencias por juegos clasificados como M, E10+ y E. Japón muestra una preferencia similar por los juegos clasificados como M y comparte la preferencia por juegos clasificados como T con Europa."
   ]
  },
  {
   "cell_type": "markdown",
   "metadata": {},
   "source": [
    "Finalmente, también se descubrió que las calificaciones promedio de los usuarios para las plataformas Xbox One y PC son iguales, pero que las calificaciones promedio de los usuarios para los géneros de Acción y Deportes son diferentes."
   ]
  }
 ],
 "metadata": {
  "kernelspec": {
   "display_name": "Python 3 (ipykernel)",
   "language": "python",
   "name": "python3"
  },
  "language_info": {
   "codemirror_mode": {
    "name": "ipython",
    "version": 3
   },
   "file_extension": ".py",
   "mimetype": "text/x-python",
   "name": "python",
   "nbconvert_exporter": "python",
   "pygments_lexer": "ipython3",
   "version": "3.9.5"
  },
  "toc": {
   "base_numbering": 1,
   "nav_menu": {},
   "number_sections": true,
   "sideBar": true,
   "skip_h1_title": true,
   "title_cell": "Table of Contents",
   "title_sidebar": "Contents",
   "toc_cell": false,
   "toc_position": {
    "height": "calc(100% - 180px)",
    "left": "10px",
    "top": "150px",
    "width": "320px"
   },
   "toc_section_display": true,
   "toc_window_display": true
  }
 },
 "nbformat": 4,
 "nbformat_minor": 2
}
